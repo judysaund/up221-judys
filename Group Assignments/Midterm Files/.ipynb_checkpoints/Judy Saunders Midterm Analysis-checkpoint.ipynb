{
 "cells": [
  {
   "cell_type": "markdown",
   "id": "4d98f390-fd37-4edc-96b8-f822a1590aa4",
   "metadata": {},
   "source": [
    "## RSO and Land Use Covenant Join\n",
    "\n",
    "The RSOs that have been recorded to come off the market through the Ellis Act Application Dashboard need to be reviewed to see which ones went off the market and turned into housing developments.  The Land Use Covenants from the LAHD provides a dataset on new developments within the City of LA."
   ]
  },
  {
   "cell_type": "code",
   "execution_count": 2,
   "id": "b8e7fdce-700b-45c9-b431-b8f6a61d18a0",
   "metadata": {},
   "outputs": [],
   "source": [
    "import pandas as pd\n",
    "import geopandas as gpd\n",
    "from geopy.geocoders import Nominatim\n",
    "from geopy.extra.rate_limiter import RateLimiter\n",
    "from tqdm import tqdm\n",
    "import time\n",
    "from shapely.geometry import Point\n",
    "import matplotlib.pyplot as plt"
   ]
  },
  {
   "cell_type": "code",
   "execution_count": 3,
   "id": "7424b6b0-26f6-401e-8594-c1d30d75edaa",
   "metadata": {},
   "outputs": [],
   "source": [
    "# Load the datasets\n",
    "land_use_covenants = pd.read_csv('geocoded_land_use_covenants.csv')\n",
    "updated_rso_data = pd.read_csv('updated_rso_data.csv')"
   ]
  },
  {
   "cell_type": "code",
   "execution_count": 5,
   "id": "c3bd9bcc-c0d2-43ad-8a55-157c30d54099",
   "metadata": {},
   "outputs": [],
   "source": [
    "# Standardize column names for easier merging\n",
    "land_use_covenants.rename(columns={'Zip Code': 'Zip', 'LAT': 'Latitude', 'LONG': 'Longitude'}, inplace=True)"
   ]
  },
  {
   "cell_type": "code",
   "execution_count": 6,
   "id": "be433927-c861-4925-b760-689727e0d511",
   "metadata": {},
   "outputs": [
    {
     "name": "stdout",
     "output_type": "stream",
     "text": [
      "Remaining Land Use Covenant records: 1957\n",
      "Remaining RSO records: 3356\n"
     ]
    }
   ],
   "source": [
    "# Drop rows where Latitude or Longitude is missing\n",
    "land_use_covenants = land_use_covenants.dropna(subset=['Latitude', 'Longitude'])\n",
    "updated_rso_data = updated_rso_data.dropna(subset=['Latitude', 'Longitude'])\n",
    "\n",
    "print(f\"Remaining Land Use Covenant records: {len(land_use_covenants)}\")\n",
    "print(f\"Remaining RSO records: {len(updated_rso_data)}\")"
   ]
  },
  {
   "cell_type": "code",
   "execution_count": 7,
   "id": "b75f617e-6aa9-4872-80b5-442d0975e8fc",
   "metadata": {},
   "outputs": [
    {
     "data": {
      "text/html": [
       "<div>\n",
       "<style scoped>\n",
       "    .dataframe tbody tr th:only-of-type {\n",
       "        vertical-align: middle;\n",
       "    }\n",
       "\n",
       "    .dataframe tbody tr th {\n",
       "        vertical-align: top;\n",
       "    }\n",
       "\n",
       "    .dataframe thead th {\n",
       "        text-align: right;\n",
       "    }\n",
       "</style>\n",
       "<table border=\"1\" class=\"dataframe\">\n",
       "  <thead>\n",
       "    <tr style=\"text-align: right;\">\n",
       "      <th></th>\n",
       "      <th>Address</th>\n",
       "      <th>Zip</th>\n",
       "      <th>CD#</th>\n",
       "      <th>Year of Covenant</th>\n",
       "      <th>Affordable Units</th>\n",
       "      <th>Total Units</th>\n",
       "      <th>% of Affordable</th>\n",
       "      <th>Entitlements</th>\n",
       "      <th>Type2</th>\n",
       "      <th>AH Studio Unit #</th>\n",
       "      <th>AH 1BR Unit #</th>\n",
       "      <th>AH 2BR Unit #</th>\n",
       "      <th>AH 3BR Unit #</th>\n",
       "      <th>AH 4BR Unit #</th>\n",
       "      <th>AH 5BR Unit#</th>\n",
       "      <th>AH 6BR Unit#</th>\n",
       "      <th>Latitude</th>\n",
       "      <th>Longitude</th>\n",
       "      <th>Cleaned_Address</th>\n",
       "    </tr>\n",
       "  </thead>\n",
       "  <tbody>\n",
       "    <tr>\n",
       "      <th>0</th>\n",
       "      <td>4660 N KESTER AVE Sherman Oaks, CA 91403</td>\n",
       "      <td>91403.0</td>\n",
       "      <td>4</td>\n",
       "      <td>2007</td>\n",
       "      <td>NaN</td>\n",
       "      <td>NaN</td>\n",
       "      <td>NaN</td>\n",
       "      <td>NaN</td>\n",
       "      <td>NaN</td>\n",
       "      <td>NaN</td>\n",
       "      <td>NaN</td>\n",
       "      <td>NaN</td>\n",
       "      <td>NaN</td>\n",
       "      <td>NaN</td>\n",
       "      <td>NaN</td>\n",
       "      <td>NaN</td>\n",
       "      <td>34.155520</td>\n",
       "      <td>-118.456752</td>\n",
       "      <td>4660 N KESTER AVE Sherman Oaks, CA</td>\n",
       "    </tr>\n",
       "    <tr>\n",
       "      <th>1</th>\n",
       "      <td>6938 N Laurel Canyon BLVD North Hollywood, CA ...</td>\n",
       "      <td>91605.0</td>\n",
       "      <td>2</td>\n",
       "      <td>2007</td>\n",
       "      <td>NaN</td>\n",
       "      <td>NaN</td>\n",
       "      <td>NaN</td>\n",
       "      <td>NaN</td>\n",
       "      <td>NaN</td>\n",
       "      <td>NaN</td>\n",
       "      <td>NaN</td>\n",
       "      <td>NaN</td>\n",
       "      <td>NaN</td>\n",
       "      <td>NaN</td>\n",
       "      <td>NaN</td>\n",
       "      <td>NaN</td>\n",
       "      <td>34.226034</td>\n",
       "      <td>-118.397452</td>\n",
       "      <td>6938 N Laurel Canyon BLVD North Hollywood, CA</td>\n",
       "    </tr>\n",
       "    <tr>\n",
       "      <th>2</th>\n",
       "      <td>4520 S FIGUEROA ST 1-21 Los Angeles, CA 90037</td>\n",
       "      <td>90037.0</td>\n",
       "      <td>9</td>\n",
       "      <td>2007</td>\n",
       "      <td>NaN</td>\n",
       "      <td>21.0</td>\n",
       "      <td>NaN</td>\n",
       "      <td>NaN</td>\n",
       "      <td>NaN</td>\n",
       "      <td>NaN</td>\n",
       "      <td>NaN</td>\n",
       "      <td>NaN</td>\n",
       "      <td>NaN</td>\n",
       "      <td>NaN</td>\n",
       "      <td>NaN</td>\n",
       "      <td>NaN</td>\n",
       "      <td>34.002220</td>\n",
       "      <td>-118.282357</td>\n",
       "      <td>4520 S FIGUEROA ST Los Angeles, CA</td>\n",
       "    </tr>\n",
       "    <tr>\n",
       "      <th>3</th>\n",
       "      <td>7601 N HOLLYWOOD WAY BURBANK, CA 91505</td>\n",
       "      <td>91505.0</td>\n",
       "      <td>2</td>\n",
       "      <td>2007</td>\n",
       "      <td>NaN</td>\n",
       "      <td>20.0</td>\n",
       "      <td>NaN</td>\n",
       "      <td>NaN</td>\n",
       "      <td>NaN</td>\n",
       "      <td>NaN</td>\n",
       "      <td>NaN</td>\n",
       "      <td>NaN</td>\n",
       "      <td>NaN</td>\n",
       "      <td>NaN</td>\n",
       "      <td>NaN</td>\n",
       "      <td>NaN</td>\n",
       "      <td>34.208498</td>\n",
       "      <td>-118.348966</td>\n",
       "      <td>7601 N HOLLYWOOD WAY BURBANK, CA</td>\n",
       "    </tr>\n",
       "    <tr>\n",
       "      <th>4</th>\n",
       "      <td>1421 W TEMPLE ST 1-52 Los Angeles, CA 90026</td>\n",
       "      <td>90026.0</td>\n",
       "      <td>1</td>\n",
       "      <td>2007</td>\n",
       "      <td>NaN</td>\n",
       "      <td>52.0</td>\n",
       "      <td>NaN</td>\n",
       "      <td>NaN</td>\n",
       "      <td>NaN</td>\n",
       "      <td>NaN</td>\n",
       "      <td>NaN</td>\n",
       "      <td>NaN</td>\n",
       "      <td>NaN</td>\n",
       "      <td>NaN</td>\n",
       "      <td>NaN</td>\n",
       "      <td>NaN</td>\n",
       "      <td>34.067697</td>\n",
       "      <td>-118.257368</td>\n",
       "      <td>1421 W TEMPLE ST Los Angeles, CA</td>\n",
       "    </tr>\n",
       "  </tbody>\n",
       "</table>\n",
       "</div>"
      ],
      "text/plain": [
       "                                             Address      Zip  CD#  \\\n",
       "0           4660 N KESTER AVE Sherman Oaks, CA 91403  91403.0    4   \n",
       "1  6938 N Laurel Canyon BLVD North Hollywood, CA ...  91605.0    2   \n",
       "2      4520 S FIGUEROA ST 1-21 Los Angeles, CA 90037  90037.0    9   \n",
       "3             7601 N HOLLYWOOD WAY BURBANK, CA 91505  91505.0    2   \n",
       "4        1421 W TEMPLE ST 1-52 Los Angeles, CA 90026  90026.0    1   \n",
       "\n",
       "   Year of Covenant  Affordable Units  Total Units % of Affordable  \\\n",
       "0              2007               NaN          NaN             NaN   \n",
       "1              2007               NaN          NaN             NaN   \n",
       "2              2007               NaN         21.0             NaN   \n",
       "3              2007               NaN         20.0             NaN   \n",
       "4              2007               NaN         52.0             NaN   \n",
       "\n",
       "  Entitlements Type2 AH Studio Unit # AH 1BR Unit # AH 2BR Unit #  \\\n",
       "0          NaN   NaN              NaN           NaN           NaN   \n",
       "1          NaN   NaN              NaN           NaN           NaN   \n",
       "2          NaN   NaN              NaN           NaN           NaN   \n",
       "3          NaN   NaN              NaN           NaN           NaN   \n",
       "4          NaN   NaN              NaN           NaN           NaN   \n",
       "\n",
       "  AH 3BR Unit # AH 4BR Unit # AH 5BR Unit# AH 6BR Unit#   Latitude  \\\n",
       "0           NaN           NaN          NaN          NaN  34.155520   \n",
       "1           NaN           NaN          NaN          NaN  34.226034   \n",
       "2           NaN           NaN          NaN          NaN  34.002220   \n",
       "3           NaN           NaN          NaN          NaN  34.208498   \n",
       "4           NaN           NaN          NaN          NaN  34.067697   \n",
       "\n",
       "    Longitude                                Cleaned_Address  \n",
       "0 -118.456752             4660 N KESTER AVE Sherman Oaks, CA  \n",
       "1 -118.397452  6938 N Laurel Canyon BLVD North Hollywood, CA  \n",
       "2 -118.282357             4520 S FIGUEROA ST Los Angeles, CA  \n",
       "3 -118.348966               7601 N HOLLYWOOD WAY BURBANK, CA  \n",
       "4 -118.257368               1421 W TEMPLE ST Los Angeles, CA  "
      ]
     },
     "execution_count": 7,
     "metadata": {},
     "output_type": "execute_result"
    }
   ],
   "source": [
    "# Display the first few rows of land use covenants\n",
    "land_use_covenants.head()"
   ]
  },
  {
   "cell_type": "code",
   "execution_count": 8,
   "id": "0d67f5cd-cd67-4f14-a1b8-a994f73d8c0a",
   "metadata": {},
   "outputs": [
    {
     "data": {
      "text/html": [
       "<div>\n",
       "<style scoped>\n",
       "    .dataframe tbody tr th:only-of-type {\n",
       "        vertical-align: middle;\n",
       "    }\n",
       "\n",
       "    .dataframe tbody tr th {\n",
       "        vertical-align: top;\n",
       "    }\n",
       "\n",
       "    .dataframe thead th {\n",
       "        text-align: right;\n",
       "    }\n",
       "</style>\n",
       "<table border=\"1\" class=\"dataframe\">\n",
       "  <thead>\n",
       "    <tr style=\"text-align: right;\">\n",
       "      <th></th>\n",
       "      <th>APN</th>\n",
       "      <th>Application Received</th>\n",
       "      <th>Application Year</th>\n",
       "      <th>Council District</th>\n",
       "      <th>Address</th>\n",
       "      <th>City</th>\n",
       "      <th>Zip</th>\n",
       "      <th>Units Withdrawn</th>\n",
       "      <th>Replacement Unit</th>\n",
       "      <th>Latitude</th>\n",
       "      <th>Longitude</th>\n",
       "    </tr>\n",
       "  </thead>\n",
       "  <tbody>\n",
       "    <tr>\n",
       "      <th>0</th>\n",
       "      <td>2040031029</td>\n",
       "      <td>11/6/2019</td>\n",
       "      <td>2019</td>\n",
       "      <td>3</td>\n",
       "      <td>22729 W DEL VALLE ST</td>\n",
       "      <td>LOS ANGELES</td>\n",
       "      <td>91364.0</td>\n",
       "      <td>3.0</td>\n",
       "      <td>NaN</td>\n",
       "      <td>34.165795</td>\n",
       "      <td>-118.621248</td>\n",
       "    </tr>\n",
       "    <tr>\n",
       "      <th>1</th>\n",
       "      <td>2040031030</td>\n",
       "      <td>12/4/2019</td>\n",
       "      <td>2019</td>\n",
       "      <td>3</td>\n",
       "      <td>22727 W DEL VALLE ST</td>\n",
       "      <td>WOODLAND HILLS</td>\n",
       "      <td>91364.0</td>\n",
       "      <td>3.0</td>\n",
       "      <td>NaN</td>\n",
       "      <td>34.165958</td>\n",
       "      <td>-118.621237</td>\n",
       "    </tr>\n",
       "    <tr>\n",
       "      <th>2</th>\n",
       "      <td>2040031050</td>\n",
       "      <td>2/25/2016</td>\n",
       "      <td>2016</td>\n",
       "      <td>3</td>\n",
       "      <td>22769 W DEL VALLE ST</td>\n",
       "      <td>LOS ANGELES</td>\n",
       "      <td>91364.0</td>\n",
       "      <td>2.0</td>\n",
       "      <td>22.0</td>\n",
       "      <td>34.165508</td>\n",
       "      <td>-118.622696</td>\n",
       "    </tr>\n",
       "    <tr>\n",
       "      <th>3</th>\n",
       "      <td>2040033033</td>\n",
       "      <td>2/10/2016</td>\n",
       "      <td>2016</td>\n",
       "      <td>3</td>\n",
       "      <td>22431 W DEL VALLE ST</td>\n",
       "      <td>WOODLAND HILLS</td>\n",
       "      <td>91364.0</td>\n",
       "      <td>3.0</td>\n",
       "      <td>NaN</td>\n",
       "      <td>34.167418</td>\n",
       "      <td>-118.616607</td>\n",
       "    </tr>\n",
       "    <tr>\n",
       "      <th>4</th>\n",
       "      <td>2107011026</td>\n",
       "      <td>6/29/2023</td>\n",
       "      <td>2023</td>\n",
       "      <td>3</td>\n",
       "      <td>20137 W ARMINTA ST</td>\n",
       "      <td>LOS ANGELES</td>\n",
       "      <td>91306.0</td>\n",
       "      <td>2.0</td>\n",
       "      <td>NaN</td>\n",
       "      <td>34.213476</td>\n",
       "      <td>-118.422740</td>\n",
       "    </tr>\n",
       "  </tbody>\n",
       "</table>\n",
       "</div>"
      ],
      "text/plain": [
       "          APN Application Received  Application Year  Council District  \\\n",
       "0  2040031029            11/6/2019              2019                 3   \n",
       "1  2040031030            12/4/2019              2019                 3   \n",
       "2  2040031050            2/25/2016              2016                 3   \n",
       "3  2040033033            2/10/2016              2016                 3   \n",
       "4  2107011026            6/29/2023              2023                 3   \n",
       "\n",
       "                Address             City      Zip  Units Withdrawn  \\\n",
       "0  22729 W DEL VALLE ST     LOS ANGELES   91364.0              3.0   \n",
       "1  22727 W DEL VALLE ST  WOODLAND HILLS   91364.0              3.0   \n",
       "2  22769 W DEL VALLE ST     LOS ANGELES   91364.0              2.0   \n",
       "3  22431 W DEL VALLE ST  WOODLAND HILLS   91364.0              3.0   \n",
       "4    20137 W ARMINTA ST     LOS ANGELES   91306.0              2.0   \n",
       "\n",
       "   Replacement Unit   Latitude   Longitude  \n",
       "0               NaN  34.165795 -118.621248  \n",
       "1               NaN  34.165958 -118.621237  \n",
       "2              22.0  34.165508 -118.622696  \n",
       "3               NaN  34.167418 -118.616607  \n",
       "4               NaN  34.213476 -118.422740  "
      ]
     },
     "execution_count": 8,
     "metadata": {},
     "output_type": "execute_result"
    }
   ],
   "source": [
    "# Display the first few rows of ellis act data\n",
    "updated_rso_data.head()"
   ]
  },
  {
   "cell_type": "markdown",
   "id": "e9a0edf9-8d65-4135-966d-28161d614a91",
   "metadata": {},
   "source": [
    "## Create Spatial Join\n",
    "Start a spatial join between the Ellis data and the Land Use Covenant data"
   ]
  },
  {
   "cell_type": "code",
   "execution_count": 12,
   "id": "78cdc3b2-5e5f-4453-b3af-3e23b3897ac5",
   "metadata": {},
   "outputs": [],
   "source": [
    "import geopandas as gpd\n",
    "from shapely.geometry import Point"
   ]
  },
  {
   "cell_type": "code",
   "execution_count": 13,
   "id": "3fbc0a86-a637-4227-9c69-9ff519ad9050",
   "metadata": {},
   "outputs": [],
   "source": [
    "# Ensure we are working with copies of the DataFrame\n",
    "land_use_covenants = land_use_covenants.copy()\n",
    "updated_rso_data = updated_rso_data.copy()"
   ]
  },
  {
   "cell_type": "code",
   "execution_count": 14,
   "id": "a565f786-094c-48fc-823e-0ec2c57c6ef6",
   "metadata": {},
   "outputs": [],
   "source": [
    "# Convert to GeoDataFrame with explicit .loc usage\n",
    "land_use_covenants.loc[:, 'geometry'] = land_use_covenants.apply(\n",
    "    lambda row: Point(row['Longitude'], row['Latitude']), axis=1\n",
    ")\n",
    "\n",
    "updated_rso_data.loc[:, 'geometry'] = updated_rso_data.apply(\n",
    "    lambda row: Point(row['Longitude'], row['Latitude']), axis=1\n",
    ")"
   ]
  },
  {
   "cell_type": "code",
   "execution_count": 15,
   "id": "a14048be-fed8-47b9-ae4b-73365fde4f74",
   "metadata": {},
   "outputs": [],
   "source": [
    "# Convert DataFrame to GeoDataFrame with correct CRS\n",
    "gdf_land_use = gpd.GeoDataFrame(land_use_covenants, geometry='geometry', crs=\"EPSG:4326\")\n",
    "gdf_rso = gpd.GeoDataFrame(updated_rso_data, geometry='geometry', crs=\"EPSG:4326\")\n"
   ]
  },
  {
   "cell_type": "code",
   "execution_count": 16,
   "id": "d0ea6f49-7803-42cd-a74e-370a8a6c6b64",
   "metadata": {},
   "outputs": [
    {
     "name": "stdout",
     "output_type": "stream",
     "text": [
      "                                             Address      Zip  CD#  \\\n",
      "0           4660 N KESTER AVE Sherman Oaks, CA 91403  91403.0    4   \n",
      "1  6938 N Laurel Canyon BLVD North Hollywood, CA ...  91605.0    2   \n",
      "2      4520 S FIGUEROA ST 1-21 Los Angeles, CA 90037  90037.0    9   \n",
      "3             7601 N HOLLYWOOD WAY BURBANK, CA 91505  91505.0    2   \n",
      "4        1421 W TEMPLE ST 1-52 Los Angeles, CA 90026  90026.0    1   \n",
      "\n",
      "   Year of Covenant  Affordable Units  Total Units % of Affordable  \\\n",
      "0              2007               NaN          NaN             NaN   \n",
      "1              2007               NaN          NaN             NaN   \n",
      "2              2007               NaN         21.0             NaN   \n",
      "3              2007               NaN         20.0             NaN   \n",
      "4              2007               NaN         52.0             NaN   \n",
      "\n",
      "  Entitlements Type2 AH Studio Unit # AH 1BR Unit # AH 2BR Unit #  \\\n",
      "0          NaN   NaN              NaN           NaN           NaN   \n",
      "1          NaN   NaN              NaN           NaN           NaN   \n",
      "2          NaN   NaN              NaN           NaN           NaN   \n",
      "3          NaN   NaN              NaN           NaN           NaN   \n",
      "4          NaN   NaN              NaN           NaN           NaN   \n",
      "\n",
      "  AH 3BR Unit # AH 4BR Unit # AH 5BR Unit# AH 6BR Unit#   Latitude  \\\n",
      "0           NaN           NaN          NaN          NaN  34.155520   \n",
      "1           NaN           NaN          NaN          NaN  34.226034   \n",
      "2           NaN           NaN          NaN          NaN  34.002220   \n",
      "3           NaN           NaN          NaN          NaN  34.208498   \n",
      "4           NaN           NaN          NaN          NaN  34.067697   \n",
      "\n",
      "    Longitude                                Cleaned_Address  \\\n",
      "0 -118.456752             4660 N KESTER AVE Sherman Oaks, CA   \n",
      "1 -118.397452  6938 N Laurel Canyon BLVD North Hollywood, CA   \n",
      "2 -118.282357             4520 S FIGUEROA ST Los Angeles, CA   \n",
      "3 -118.348966               7601 N HOLLYWOOD WAY BURBANK, CA   \n",
      "4 -118.257368               1421 W TEMPLE ST Los Angeles, CA   \n",
      "\n",
      "                      geometry  \n",
      "0  POINT (-118.45675 34.15552)  \n",
      "1  POINT (-118.39745 34.22603)  \n",
      "2  POINT (-118.28236 34.00222)  \n",
      "3   POINT (-118.34897 34.2085)  \n",
      "4   POINT (-118.25737 34.0677)  \n",
      "          APN Application Received  Application Year  Council District  \\\n",
      "0  2040031029            11/6/2019              2019                 3   \n",
      "1  2040031030            12/4/2019              2019                 3   \n",
      "2  2040031050            2/25/2016              2016                 3   \n",
      "3  2040033033            2/10/2016              2016                 3   \n",
      "4  2107011026            6/29/2023              2023                 3   \n",
      "\n",
      "                Address             City      Zip  Units Withdrawn  \\\n",
      "0  22729 W DEL VALLE ST     LOS ANGELES   91364.0              3.0   \n",
      "1  22727 W DEL VALLE ST  WOODLAND HILLS   91364.0              3.0   \n",
      "2  22769 W DEL VALLE ST     LOS ANGELES   91364.0              2.0   \n",
      "3  22431 W DEL VALLE ST  WOODLAND HILLS   91364.0              3.0   \n",
      "4    20137 W ARMINTA ST     LOS ANGELES   91306.0              2.0   \n",
      "\n",
      "   Replacement Unit   Latitude   Longitude                     geometry  \n",
      "0               NaN  34.165795 -118.621248  POINT (-118.62125 34.16579)  \n",
      "1               NaN  34.165958 -118.621237  POINT (-118.62124 34.16596)  \n",
      "2              22.0  34.165508 -118.622696   POINT (-118.6227 34.16551)  \n",
      "3               NaN  34.167418 -118.616607  POINT (-118.61661 34.16742)  \n",
      "4               NaN  34.213476 -118.422740  POINT (-118.42274 34.21348)  \n"
     ]
    }
   ],
   "source": [
    "# Check the first few rows to confirm the transformation\n",
    "print(gdf_land_use.head())\n",
    "print(gdf_rso.head())"
   ]
  },
  {
   "cell_type": "code",
   "execution_count": 17,
   "id": "7118800e-298b-454a-856a-553f98ba716c",
   "metadata": {},
   "outputs": [],
   "source": [
    "# Convert to projected CRS for accurate distance calculations (meters)\n",
    "gdf_land_use = gdf_land_use.to_crs(epsg=32611)  # EPSG 32611 is UTM Zone 11N (Los Angeles)\n",
    "gdf_rso = gdf_rso.to_crs(epsg=32611)"
   ]
  },
  {
   "cell_type": "code",
   "execution_count": 18,
   "id": "2b65e36d-6ea8-4cc5-9330-27e14cec0ed8",
   "metadata": {},
   "outputs": [],
   "source": [
    "# Create a 500m buffer around RSO properties and keep the original geometry\n",
    "gdf_rso['buffer'] = gdf_rso.geometry.buffer(500)"
   ]
  },
  {
   "cell_type": "code",
   "execution_count": 19,
   "id": "5e4093bf-5a8a-4be3-8204-8560e5819f9d",
   "metadata": {},
   "outputs": [],
   "source": [
    "# Ensure 'geometry' remains the active column\n",
    "gdf_rso.set_geometry('geometry', inplace=True)\n",
    "gdf_land_use.set_geometry('geometry', inplace=True)"
   ]
  },
  {
   "cell_type": "code",
   "execution_count": 20,
   "id": "10f08c7c-5382-42fd-8d3c-4f47a346e87d",
   "metadata": {},
   "outputs": [],
   "source": [
    "# Perform spatial join (finding land use covenants within 500m buffer)\n",
    "gdf_land_use_within_buffer = gpd.sjoin(gdf_land_use, gdf_rso[['geometry', 'buffer']], predicate='within')"
   ]
  },
  {
   "cell_type": "code",
   "execution_count": 21,
   "id": "f83db78d-0b8e-4a1a-9e95-970e95039c49",
   "metadata": {},
   "outputs": [
    {
     "name": "stdout",
     "output_type": "stream",
     "text": [
      "Found 977 matches within 500m buffer.\n"
     ]
    }
   ],
   "source": [
    "# Save results\n",
    "gdf_land_use_within_buffer.to_csv('nearby_land_use_covenants.csv', index=False)\n",
    "\n",
    "print(f\"Found {len(gdf_land_use_within_buffer)} matches within 500m buffer.\")"
   ]
  },
  {
   "cell_type": "code",
   "execution_count": 22,
   "id": "569cab97-0fe3-425e-b127-dbb0f3c58e8c",
   "metadata": {},
   "outputs": [
    {
     "data": {
      "text/html": [
       "<div>\n",
       "<style scoped>\n",
       "    .dataframe tbody tr th:only-of-type {\n",
       "        vertical-align: middle;\n",
       "    }\n",
       "\n",
       "    .dataframe tbody tr th {\n",
       "        vertical-align: top;\n",
       "    }\n",
       "\n",
       "    .dataframe thead th {\n",
       "        text-align: right;\n",
       "    }\n",
       "</style>\n",
       "<table border=\"1\" class=\"dataframe\">\n",
       "  <thead>\n",
       "    <tr style=\"text-align: right;\">\n",
       "      <th></th>\n",
       "      <th>Address</th>\n",
       "      <th>Zip</th>\n",
       "      <th>CD#</th>\n",
       "      <th>Year of Covenant</th>\n",
       "      <th>Affordable Units</th>\n",
       "      <th>Total Units</th>\n",
       "      <th>% of Affordable</th>\n",
       "      <th>Entitlements</th>\n",
       "      <th>Type2</th>\n",
       "      <th>AH Studio Unit #</th>\n",
       "      <th>...</th>\n",
       "      <th>AH 3BR Unit #</th>\n",
       "      <th>AH 4BR Unit #</th>\n",
       "      <th>AH 5BR Unit#</th>\n",
       "      <th>AH 6BR Unit#</th>\n",
       "      <th>Latitude</th>\n",
       "      <th>Longitude</th>\n",
       "      <th>Cleaned_Address</th>\n",
       "      <th>geometry</th>\n",
       "      <th>index_right</th>\n",
       "      <th>buffer</th>\n",
       "    </tr>\n",
       "  </thead>\n",
       "  <tbody>\n",
       "    <tr>\n",
       "      <th>1</th>\n",
       "      <td>6938 N Laurel Canyon BLVD North Hollywood, CA ...</td>\n",
       "      <td>91605.0</td>\n",
       "      <td>2</td>\n",
       "      <td>2007</td>\n",
       "      <td>NaN</td>\n",
       "      <td>NaN</td>\n",
       "      <td>NaN</td>\n",
       "      <td>NaN</td>\n",
       "      <td>NaN</td>\n",
       "      <td>NaN</td>\n",
       "      <td>...</td>\n",
       "      <td>NaN</td>\n",
       "      <td>NaN</td>\n",
       "      <td>NaN</td>\n",
       "      <td>NaN</td>\n",
       "      <td>34.226034</td>\n",
       "      <td>-118.397452</td>\n",
       "      <td>6938 N Laurel Canyon BLVD North Hollywood, CA</td>\n",
       "      <td>POINT (371286.407 3788101.655)</td>\n",
       "      <td>305</td>\n",
       "      <td>POLYGON ((371786.407 3788101.655, 371783.999 3...</td>\n",
       "    </tr>\n",
       "    <tr>\n",
       "      <th>1</th>\n",
       "      <td>6938 N Laurel Canyon BLVD North Hollywood, CA ...</td>\n",
       "      <td>91605.0</td>\n",
       "      <td>2</td>\n",
       "      <td>2007</td>\n",
       "      <td>NaN</td>\n",
       "      <td>NaN</td>\n",
       "      <td>NaN</td>\n",
       "      <td>NaN</td>\n",
       "      <td>NaN</td>\n",
       "      <td>NaN</td>\n",
       "      <td>...</td>\n",
       "      <td>NaN</td>\n",
       "      <td>NaN</td>\n",
       "      <td>NaN</td>\n",
       "      <td>NaN</td>\n",
       "      <td>34.226034</td>\n",
       "      <td>-118.397452</td>\n",
       "      <td>6938 N Laurel Canyon BLVD North Hollywood, CA</td>\n",
       "      <td>POINT (371286.407 3788101.655)</td>\n",
       "      <td>339</td>\n",
       "      <td>POLYGON ((371786.407 3788101.655, 371783.999 3...</td>\n",
       "    </tr>\n",
       "    <tr>\n",
       "      <th>1</th>\n",
       "      <td>6938 N Laurel Canyon BLVD North Hollywood, CA ...</td>\n",
       "      <td>91605.0</td>\n",
       "      <td>2</td>\n",
       "      <td>2007</td>\n",
       "      <td>NaN</td>\n",
       "      <td>NaN</td>\n",
       "      <td>NaN</td>\n",
       "      <td>NaN</td>\n",
       "      <td>NaN</td>\n",
       "      <td>NaN</td>\n",
       "      <td>...</td>\n",
       "      <td>NaN</td>\n",
       "      <td>NaN</td>\n",
       "      <td>NaN</td>\n",
       "      <td>NaN</td>\n",
       "      <td>34.226034</td>\n",
       "      <td>-118.397452</td>\n",
       "      <td>6938 N Laurel Canyon BLVD North Hollywood, CA</td>\n",
       "      <td>POINT (371286.407 3788101.655)</td>\n",
       "      <td>340</td>\n",
       "      <td>POLYGON ((371786.407 3788101.655, 371783.999 3...</td>\n",
       "    </tr>\n",
       "    <tr>\n",
       "      <th>1</th>\n",
       "      <td>6938 N Laurel Canyon BLVD North Hollywood, CA ...</td>\n",
       "      <td>91605.0</td>\n",
       "      <td>2</td>\n",
       "      <td>2007</td>\n",
       "      <td>NaN</td>\n",
       "      <td>NaN</td>\n",
       "      <td>NaN</td>\n",
       "      <td>NaN</td>\n",
       "      <td>NaN</td>\n",
       "      <td>NaN</td>\n",
       "      <td>...</td>\n",
       "      <td>NaN</td>\n",
       "      <td>NaN</td>\n",
       "      <td>NaN</td>\n",
       "      <td>NaN</td>\n",
       "      <td>34.226034</td>\n",
       "      <td>-118.397452</td>\n",
       "      <td>6938 N Laurel Canyon BLVD North Hollywood, CA</td>\n",
       "      <td>POINT (371286.407 3788101.655)</td>\n",
       "      <td>341</td>\n",
       "      <td>POLYGON ((371786.407 3788101.655, 371783.999 3...</td>\n",
       "    </tr>\n",
       "    <tr>\n",
       "      <th>7</th>\n",
       "      <td>7551 N JORDAN AVE Canoga Park, CA 91303</td>\n",
       "      <td>91303.0</td>\n",
       "      <td>3</td>\n",
       "      <td>2007</td>\n",
       "      <td>NaN</td>\n",
       "      <td>41.0</td>\n",
       "      <td>NaN</td>\n",
       "      <td>NaN</td>\n",
       "      <td>NaN</td>\n",
       "      <td>NaN</td>\n",
       "      <td>...</td>\n",
       "      <td>NaN</td>\n",
       "      <td>NaN</td>\n",
       "      <td>NaN</td>\n",
       "      <td>NaN</td>\n",
       "      <td>34.197397</td>\n",
       "      <td>-118.602871</td>\n",
       "      <td>7551 N JORDAN AVE Canoga Park, CA</td>\n",
       "      <td>POINT (352314.465 3785204.517)</td>\n",
       "      <td>7</td>\n",
       "      <td>POLYGON ((352814.465 3785204.517, 352812.058 3...</td>\n",
       "    </tr>\n",
       "  </tbody>\n",
       "</table>\n",
       "<p>5 rows × 22 columns</p>\n",
       "</div>"
      ],
      "text/plain": [
       "                                             Address      Zip  CD#  \\\n",
       "1  6938 N Laurel Canyon BLVD North Hollywood, CA ...  91605.0    2   \n",
       "1  6938 N Laurel Canyon BLVD North Hollywood, CA ...  91605.0    2   \n",
       "1  6938 N Laurel Canyon BLVD North Hollywood, CA ...  91605.0    2   \n",
       "1  6938 N Laurel Canyon BLVD North Hollywood, CA ...  91605.0    2   \n",
       "7            7551 N JORDAN AVE Canoga Park, CA 91303  91303.0    3   \n",
       "\n",
       "   Year of Covenant  Affordable Units  Total Units % of Affordable  \\\n",
       "1              2007               NaN          NaN             NaN   \n",
       "1              2007               NaN          NaN             NaN   \n",
       "1              2007               NaN          NaN             NaN   \n",
       "1              2007               NaN          NaN             NaN   \n",
       "7              2007               NaN         41.0             NaN   \n",
       "\n",
       "  Entitlements Type2 AH Studio Unit #  ... AH 3BR Unit # AH 4BR Unit #  \\\n",
       "1          NaN   NaN              NaN  ...           NaN           NaN   \n",
       "1          NaN   NaN              NaN  ...           NaN           NaN   \n",
       "1          NaN   NaN              NaN  ...           NaN           NaN   \n",
       "1          NaN   NaN              NaN  ...           NaN           NaN   \n",
       "7          NaN   NaN              NaN  ...           NaN           NaN   \n",
       "\n",
       "  AH 5BR Unit# AH 6BR Unit#   Latitude   Longitude  \\\n",
       "1          NaN          NaN  34.226034 -118.397452   \n",
       "1          NaN          NaN  34.226034 -118.397452   \n",
       "1          NaN          NaN  34.226034 -118.397452   \n",
       "1          NaN          NaN  34.226034 -118.397452   \n",
       "7          NaN          NaN  34.197397 -118.602871   \n",
       "\n",
       "                                 Cleaned_Address  \\\n",
       "1  6938 N Laurel Canyon BLVD North Hollywood, CA   \n",
       "1  6938 N Laurel Canyon BLVD North Hollywood, CA   \n",
       "1  6938 N Laurel Canyon BLVD North Hollywood, CA   \n",
       "1  6938 N Laurel Canyon BLVD North Hollywood, CA   \n",
       "7              7551 N JORDAN AVE Canoga Park, CA   \n",
       "\n",
       "                         geometry index_right  \\\n",
       "1  POINT (371286.407 3788101.655)         305   \n",
       "1  POINT (371286.407 3788101.655)         339   \n",
       "1  POINT (371286.407 3788101.655)         340   \n",
       "1  POINT (371286.407 3788101.655)         341   \n",
       "7  POINT (352314.465 3785204.517)           7   \n",
       "\n",
       "                                              buffer  \n",
       "1  POLYGON ((371786.407 3788101.655, 371783.999 3...  \n",
       "1  POLYGON ((371786.407 3788101.655, 371783.999 3...  \n",
       "1  POLYGON ((371786.407 3788101.655, 371783.999 3...  \n",
       "1  POLYGON ((371786.407 3788101.655, 371783.999 3...  \n",
       "7  POLYGON ((352814.465 3785204.517, 352812.058 3...  \n",
       "\n",
       "[5 rows x 22 columns]"
      ]
     },
     "execution_count": 22,
     "metadata": {},
     "output_type": "execute_result"
    }
   ],
   "source": [
    "# Display the first few rows of buffer data\n",
    "gdf_land_use_within_buffer.head()"
   ]
  },
  {
   "cell_type": "markdown",
   "id": "4495776a-abf7-48fd-a445-bee2a5cd52b7",
   "metadata": {},
   "source": [
    "## Clean Data"
   ]
  },
  {
   "cell_type": "code",
   "execution_count": 28,
   "id": "5286bbfe-b430-43ee-a522-780d613444e1",
   "metadata": {},
   "outputs": [
    {
     "name": "stdout",
     "output_type": "stream",
     "text": [
      "Land Use Covenants Data Types:\n",
      " Address              object\n",
      "Zip                 float64\n",
      "CD#                   int64\n",
      "Year of Covenant      int64\n",
      "Affordable Units    float64\n",
      "Total Units         float64\n",
      "% of Affordable      object\n",
      "Entitlements         object\n",
      "Type2                object\n",
      "AH Studio Unit #     object\n",
      "AH 1BR Unit #        object\n",
      "AH 2BR Unit #        object\n",
      "AH 3BR Unit #        object\n",
      "AH 4BR Unit #        object\n",
      "AH 5BR Unit#         object\n",
      "AH 6BR Unit#         object\n",
      "Latitude            float64\n",
      "Longitude           float64\n",
      "Cleaned_Address      object\n",
      "geometry             object\n",
      "dtype: object \n",
      "\n",
      "Updated RSO Data Types:\n",
      " APN                       int64\n",
      "Application Received     object\n",
      "Application Year          int64\n",
      "Council District          int64\n",
      "Address                  object\n",
      "City                     object\n",
      "Zip                     float64\n",
      "Units Withdrawn         float64\n",
      "Replacement Unit        float64\n",
      "Latitude                float64\n",
      "Longitude               float64\n",
      "dtype: object \n",
      "\n",
      "Land Use Within Buffer Data Types:\n",
      " Address               object\n",
      "Zip                  float64\n",
      "CD#                    int64\n",
      "Year of Covenant       int64\n",
      "Affordable Units     float64\n",
      "Total Units          float64\n",
      "% of Affordable       object\n",
      "Entitlements          object\n",
      "Type2                 object\n",
      "AH Studio Unit #      object\n",
      "AH 1BR Unit #         object\n",
      "AH 2BR Unit #         object\n",
      "AH 3BR Unit #         object\n",
      "AH 4BR Unit #         object\n",
      "AH 5BR Unit#          object\n",
      "AH 6BR Unit#          object\n",
      "Latitude             float64\n",
      "Longitude            float64\n",
      "Cleaned_Address       object\n",
      "geometry            geometry\n",
      "index_right            int64\n",
      "buffer              geometry\n",
      "dtype: object \n",
      "\n"
     ]
    }
   ],
   "source": [
    "# Check data types of each dataset\n",
    "print(\"Land Use Covenants Data Types:\\n\", land_use_covenants.dtypes, \"\\n\")\n",
    "print(\"Updated RSO Data Types:\\n\", updated_rso_data.dtypes, \"\\n\")\n",
    "print(\"Land Use Within Buffer Data Types:\\n\", gdf_land_use_within_buffer.dtypes, \"\\n\")\n"
   ]
  },
  {
   "cell_type": "code",
   "execution_count": 33,
   "id": "f700c2be-b9f9-4f73-ae52-3856e8b72e17",
   "metadata": {},
   "outputs": [],
   "source": [
    "# clean % of affordable\n",
    "import numpy as np\n",
    "\n",
    "# Ensure column is treated as string before replacing '%' symbol\n",
    "land_use_covenants['% of Affordable'] = (\n",
    "    land_use_covenants['% of Affordable']\n",
    "    .astype(str)  # Convert all values to string\n",
    "    .str.replace('%', '', regex=True)  # Remove '%' symbol\n",
    "    .replace({'#DIV/0!': np.nan, 'nan': np.nan})  # Replace invalid values with NaN\n",
    "    .astype(float)  # Convert to float\n",
    ")\n",
    "\n",
    "gdf_land_use['% of Affordable'] = (\n",
    "    gdf_land_use['% of Affordable']\n",
    "    .astype(str)  # Convert all values to string\n",
    "    .str.replace('%', '', regex=True)  # Remove '%' symbol\n",
    "    .replace({'#DIV/0!': np.nan, 'nan': np.nan})  # Replace invalid values with NaN\n",
    "    .astype(float)  # Convert to float\n",
    ")\n"
   ]
  },
  {
   "cell_type": "code",
   "execution_count": 34,
   "id": "c7d866b5-5508-4a22-a3b4-a323d8822a1f",
   "metadata": {},
   "outputs": [],
   "source": [
    "# Convert AH Unit columns to numeric (handle errors)\n",
    "ah_columns = ['AH Studio Unit #', 'AH 1BR Unit #', 'AH 2BR Unit #', \n",
    "              'AH 3BR Unit #', 'AH 4BR Unit #', 'AH 5BR Unit#', 'AH 6BR Unit#']\n",
    "for col in ah_columns:\n",
    "    land_use_covenants[col] = pd.to_numeric(land_use_covenants[col], errors='coerce')\n",
    "    gdf_land_use[col] = pd.to_numeric(gdf_land_use[col], errors='coerce')"
   ]
  },
  {
   "cell_type": "code",
   "execution_count": 35,
   "id": "56ab70b8-0381-41dd-a396-e0e01c7db01f",
   "metadata": {},
   "outputs": [],
   "source": [
    "# Convert APN to string to prevent data loss\n",
    "updated_rso_data['APN'] = updated_rso_data['APN'].astype(str)\n"
   ]
  },
  {
   "cell_type": "code",
   "execution_count": 36,
   "id": "68c85f4b-e44f-4c10-99f5-7d68a1a47afa",
   "metadata": {},
   "outputs": [
    {
     "name": "stdout",
     "output_type": "stream",
     "text": [
      "Updated Data Types:\n",
      "\n",
      "Land Use Covenants Data Types:\n",
      " Address              object\n",
      "Zip                 float64\n",
      "CD#                   int64\n",
      "Year of Covenant      int64\n",
      "Affordable Units    float64\n",
      "Total Units         float64\n",
      "% of Affordable     float64\n",
      "Entitlements         object\n",
      "Type2                object\n",
      "AH Studio Unit #    float64\n",
      "AH 1BR Unit #       float64\n",
      "AH 2BR Unit #       float64\n",
      "AH 3BR Unit #       float64\n",
      "AH 4BR Unit #       float64\n",
      "AH 5BR Unit#        float64\n",
      "AH 6BR Unit#        float64\n",
      "Latitude            float64\n",
      "Longitude           float64\n",
      "Cleaned_Address      object\n",
      "geometry             object\n",
      "dtype: object \n",
      "\n",
      "Updated RSO Data Types:\n",
      " APN                      object\n",
      "Application Received     object\n",
      "Application Year          int64\n",
      "Council District          int64\n",
      "Address                  object\n",
      "City                     object\n",
      "Zip                     float64\n",
      "Units Withdrawn         float64\n",
      "Replacement Unit        float64\n",
      "Latitude                float64\n",
      "Longitude               float64\n",
      "dtype: object \n",
      "\n",
      "Land Use Within Buffer Data Types:\n",
      " Address               object\n",
      "Zip                  float64\n",
      "CD#                    int64\n",
      "Year of Covenant       int64\n",
      "Affordable Units     float64\n",
      "Total Units          float64\n",
      "% of Affordable      float64\n",
      "Entitlements          object\n",
      "Type2                 object\n",
      "AH Studio Unit #     float64\n",
      "AH 1BR Unit #        float64\n",
      "AH 2BR Unit #        float64\n",
      "AH 3BR Unit #        float64\n",
      "AH 4BR Unit #        float64\n",
      "AH 5BR Unit#         float64\n",
      "AH 6BR Unit#         float64\n",
      "Latitude             float64\n",
      "Longitude            float64\n",
      "Cleaned_Address       object\n",
      "geometry            geometry\n",
      "dtype: object \n",
      "\n"
     ]
    }
   ],
   "source": [
    "# Confirm changes\n",
    "print(\"Updated Data Types:\\n\")\n",
    "print(\"Land Use Covenants Data Types:\\n\", land_use_covenants.dtypes, \"\\n\")\n",
    "print(\"Updated RSO Data Types:\\n\", updated_rso_data.dtypes, \"\\n\")\n",
    "print(\"Land Use Within Buffer Data Types:\\n\", gdf_land_use.dtypes, \"\\n\")"
   ]
  },
  {
   "cell_type": "markdown",
   "id": "7da61740-b4cb-47a1-8bc8-8bc0d0d1a44b",
   "metadata": {},
   "source": [
    "## Net Benefit Analysis\n",
    "Calculate the net benefit of units by Council District"
   ]
  },
  {
   "cell_type": "code",
   "execution_count": 37,
   "id": "957d8c7b-a2dd-468c-bd8f-1d22073026e3",
   "metadata": {},
   "outputs": [],
   "source": [
    "# Step 1: Aggregate RSO Withdrawals\n",
    "rso_summary = updated_rso_data.groupby(\"Council District\").agg(\n",
    "    total_rso_removed=(\"Units Withdrawn\", \"sum\")\n",
    ").reset_index()"
   ]
  },
  {
   "cell_type": "code",
   "execution_count": 49,
   "id": "caff00a0-4f13-4935-9bbe-86f8446ab185",
   "metadata": {},
   "outputs": [],
   "source": [
    "# Step 2: Aggregate Affordable & Total Units\n",
    "affordable_summary = land_use_covenants.groupby(\"CD#\").agg(\n",
    "    total_affordable_added=(\"Affordable Units\", \"sum\"),\n",
    "    total_units_added=(\"Total Units\", \"sum\")\n",
    ").reset_index()"
   ]
  },
  {
   "cell_type": "code",
   "execution_count": 50,
   "id": "d007a2ac-bfc8-49e6-bd2d-b2f3fe87129b",
   "metadata": {},
   "outputs": [],
   "source": [
    "# Step 3: Merge datasets on Council District\n",
    "net_benefit_df = rso_summary.merge(\n",
    "    affordable_summary, left_on=\"Council District\", right_on=\"CD#\", how=\"left\"\n",
    ")"
   ]
  },
  {
   "cell_type": "code",
   "execution_count": 60,
   "id": "e16f59af-4f22-4d74-bbda-550a71c0a1e3",
   "metadata": {},
   "outputs": [],
   "source": [
    "# Remove erroneous Council District 99\n",
    "net_benefit_df = net_benefit_df[net_benefit_df[\"Council District\"] != 99]"
   ]
  },
  {
   "cell_type": "code",
   "execution_count": 61,
   "id": "7aa05958-646b-48fd-99b3-aeb48c488e10",
   "metadata": {},
   "outputs": [],
   "source": [
    "# Step 4: Calculate Market Rate Units\n",
    "net_benefit_df[\"market_rate_units_added\"] = (\n",
    "    net_benefit_df[\"total_units_added\"] - net_benefit_df[\"total_affordable_added\"]\n",
    ")"
   ]
  },
  {
   "cell_type": "code",
   "execution_count": 62,
   "id": "f5c2db5c-2ea3-45f3-8845-3e1355c44bbb",
   "metadata": {},
   "outputs": [],
   "source": [
    "# Step 5: Compute Net Benefit\n",
    "net_benefit_df[\"Net Benefit\"] = (\n",
    "    net_benefit_df[\"total_units_added\"] - net_benefit_df[\"total_rso_removed\"]\n",
    ")"
   ]
  },
  {
   "cell_type": "code",
   "execution_count": 63,
   "id": "56baedc3-b5bd-434d-beff-6712c2047f99",
   "metadata": {},
   "outputs": [],
   "source": [
    "# Step 6: Fill NaN values and Save\n",
    "net_benefit_df.fillna(0, inplace=True)"
   ]
  },
  {
   "cell_type": "code",
   "execution_count": 64,
   "id": "85eeefe4-c0e1-44d7-a3af-65967fc81f74",
   "metadata": {},
   "outputs": [],
   "source": [
    "# Step 7: Save results to a CSV file for further analysis\n",
    "net_benefit_df.to_csv(\"net_change_analysis.csv\", index=False)"
   ]
  },
  {
   "cell_type": "code",
   "execution_count": 65,
   "id": "497eba19-1c08-42af-9816-60bf1ac8a7b0",
   "metadata": {},
   "outputs": [],
   "source": [
    "# Reload the data\n",
    "net_benefit_df = pd.read_csv(\"net_change_analysis.csv\")"
   ]
  },
  {
   "cell_type": "code",
   "execution_count": 80,
   "id": "af0d3e3e-b4c0-4206-aaf6-ca4f8a5c4ebe",
   "metadata": {},
   "outputs": [],
   "source": [
    "## Rename columns for better readability\n",
    "net_benefit_df.rename(columns={\n",
    "    \"total_affordable_added\": \"Total Affordable Added\",\n",
    "    \"market_rate_units_added\": \"Total Market Rate Added\",\n",
    "    \"total_units_added\": \"Total Units Added\",\n",
    "    \"total_rso_removed\": \"Total RSO Removed\",\n",
    "    \"net_benefit\": \"Net Benefit\"\n",
    "}, inplace=True)"
   ]
  },
  {
   "cell_type": "code",
   "execution_count": 98,
   "id": "5f0eb412-3ac8-4ba8-8a69-88899a627c09",
   "metadata": {},
   "outputs": [
    {
     "data": {
      "image/png": "[encoded data removed]",
      "text/plain": [
       "<Figure size 1200x700 with 1 Axes>"
      ]
     },
     "metadata": {},
     "output_type": "display_data"
    }
   ],
   "source": [
    "import matplotlib.pyplot as plt\n",
    "\n",
    "# Define a muted color palette\n",
    "muted_colors = [\"#5e3c58\", \"#83adb5\", \"#c7bbc9\", \"#5e3c58\", \"#bfb5b2\"]\n",
    "\n",
    "# Set figure size\n",
    "plt.figure(figsize=(12, 7))\n",
    "\n",
    "# Extract labels and values\n",
    "labels = net_benefit_df[\"Council District\"].astype(str)\n",
    "x = range(len(labels))\n",
    "\n",
    "# Data for stacked bars\n",
    "rso_removed = net_benefit_df[\"Total RSO Removed\"]\n",
    "affordable_added = net_benefit_df[\"Total Affordable Added\"]\n",
    "market_rate_added = net_benefit_df[\"Total Market Rate Added\"]\n",
    "total_units_added = net_benefit_df[\"Total Units Added\"]\n",
    "\n",
    "# Plot stacked bar chart with muted colors\n",
    "plt.bar(x, rso_removed, label=\"RSO Units Removed\", color=muted_colors[0])\n",
    "plt.bar(x, affordable_added, bottom=rso_removed, label=\"Affordable Units Added\", color=muted_colors[1])\n",
    "plt.bar(x, market_rate_added, bottom=rso_removed + affordable_added, label=\"Market Rate Units Added\", color=muted_colors[2])\n",
    "plt.bar(x, total_units_added, bottom=rso_removed + affordable_added + market_rate_added, label=\"Total Units Added\", color=muted_colors[3], alpha=0.7)\n",
    "\n",
    "# Labels & title\n",
    "plt.xlabel(\"Council District\")\n",
    "plt.ylabel(\"Number of Units\")\n",
    "plt.title(\"Net Housing Impact by Council District\")\n",
    "plt.xticks(x, labels, rotation=45)\n",
    "plt.legend()\n",
    "\n",
    "# Save the figure as an image (change file type as needed)\n",
    "plt.savefig(\"housing_impact_stackedbar.png\", dpi=300, bbox_inches=\"tight\")\n",
    "\n",
    "# Show the chart\n",
    "plt.show()\n"
   ]
  },
  {
   "cell_type": "code",
   "execution_count": 101,
   "id": "723af445-5940-45d5-9d8f-6410e89add60",
   "metadata": {},
   "outputs": [
    {
     "data": {
      "image/png": "[encoded data removed]",
      "text/plain": [
       "<Figure size 1200x700 with 1 Axes>"
      ]
     },
     "metadata": {},
     "output_type": "display_data"
    }
   ],
   "source": [
    "import matplotlib.pyplot as plt\n",
    "import numpy as np\n",
    "\n",
    "# Define a muted color palette\n",
    "muted_colors = [\"#5e3c58\", \"#83adb5\", \"#c7bbc9\", \"#5e3c58\", \"#bfb5b2\"]\n",
    "\n",
    "# Set figure size\n",
    "plt.figure(figsize=(12, 7))\n",
    "\n",
    "# Extract labels and values\n",
    "labels = net_benefit_df[\"Council District\"].astype(str)\n",
    "x = np.arange(len(labels))  # the label locations\n",
    "width = 0.2  # Width of bars\n",
    "\n",
    "# Plot grouped bars\n",
    "plt.bar(x - width*1.5, net_benefit_df[\"Total RSO Removed\"], width, label=\"RSO Units Removed\", color=muted_colors[0])\n",
    "plt.bar(x - width/2, net_benefit_df[\"Total Affordable Added\"], width, label=\"Affordable Units Added\", color=muted_colors[1])\n",
    "plt.bar(x + width/2, net_benefit_df[\"Total Market Rate Added\"], width, label=\"Market Rate Units Added\", color=muted_colors[2])\n",
    "plt.bar(x + width*1.5, net_benefit_df[\"Total Units Added\"], width, label=\"Total Units Added\", color=muted_colors[3], alpha=0.7)\n",
    "\n",
    "# Labels & title\n",
    "plt.xlabel(\"Council District\")\n",
    "plt.ylabel(\"Number of Units\")\n",
    "plt.title(\"Net Housing Impact by Council District\")\n",
    "plt.xticks(x, labels, rotation=45)\n",
    "plt.legend()\n",
    "\n",
    "# Save the figure as an image (change file type as needed)\n",
    "plt.savefig(\"housing_impact_groupedbar.png\", dpi=300, bbox_inches=\"tight\")\n",
    "\n",
    "# Show the chart\n",
    "plt.show()\n"
   ]
  },
  {
   "cell_type": "code",
   "execution_count": 87,
   "id": "472fac43-0502-49b9-91ef-ed4c0b5e9e5c",
   "metadata": {},
   "outputs": [
    {
     "data": {
      "image/png": "[encoded data removed]",
      "text/plain": [
       "<Figure size 1400x600 with 2 Axes>"
      ]
     },
     "metadata": {},
     "output_type": "display_data"
    }
   ],
   "source": [
    "import seaborn as sns\n",
    "import matplotlib.pyplot as plt\n",
    "\n",
    "# Drop 'CD#' column if it exists and reorder columns\n",
    "columns_order = [\n",
    "    \"Total Affordable Added\", \"Total Market Rate Added\", \n",
    "    \"Total Units Added\", \"Total RSO Removed\", \"Net Benefit\"\n",
    "]\n",
    "\n",
    "# Ensure only the selected columns exist\n",
    "heatmap_data = net_benefit_df.set_index(\"Council District\")[columns_order]\n",
    "\n",
    "# Define an improved color palette for better readability\n",
    "heatmap_palette = sns.color_palette(\"coolwarm\", as_cmap=True)\n",
    "\n",
    "# Set figure size for better readability\n",
    "plt.figure(figsize=(14, 6))\n",
    "\n",
    "# Create heatmap with formatted numbers and rotated x-axis labels for better display\n",
    "ax = sns.heatmap(\n",
    "    heatmap_data, annot=True, fmt=\",.0f\", cmap=heatmap_palette, linewidths=0.5, cbar=True\n",
    ")\n",
    "\n",
    "# Ensure metric names are displayed horizontally\n",
    "ax.set_xticklabels(ax.get_xticklabels(), rotation=0, ha=\"center\")\n",
    "\n",
    "# Labels & title\n",
    "plt.title(\"Housing Impact by Council District\", fontsize=14)\n",
    "plt.xlabel(\"Metrics\", fontsize=12)\n",
    "plt.ylabel(\"Council District\", fontsize=12)\n",
    "\n",
    "# Save the figure as an image (change file type as needed)\n",
    "plt.savefig(\"housing_impact_heatmap.png\", dpi=300, bbox_inches=\"tight\")\n",
    "\n",
    "# Show the heatmap\n",
    "plt.show()\n"
   ]
  },
  {
   "cell_type": "code",
   "execution_count": 89,
   "id": "109b2944-5bf6-41fc-b855-1a57cc01ad19",
   "metadata": {},
   "outputs": [
    {
     "data": {
      "text/html": [
       "<div>\n",
       "<style scoped>\n",
       "    .dataframe tbody tr th:only-of-type {\n",
       "        vertical-align: middle;\n",
       "    }\n",
       "\n",
       "    .dataframe tbody tr th {\n",
       "        vertical-align: top;\n",
       "    }\n",
       "\n",
       "    .dataframe thead th {\n",
       "        text-align: right;\n",
       "    }\n",
       "</style>\n",
       "<table border=\"1\" class=\"dataframe\">\n",
       "  <thead>\n",
       "    <tr style=\"text-align: right;\">\n",
       "      <th></th>\n",
       "      <th>Metric</th>\n",
       "      <th>Value</th>\n",
       "    </tr>\n",
       "  </thead>\n",
       "  <tbody>\n",
       "    <tr>\n",
       "      <th>0</th>\n",
       "      <td>Total Affordable Added</td>\n",
       "      <td>41,650</td>\n",
       "    </tr>\n",
       "    <tr>\n",
       "      <th>1</th>\n",
       "      <td>Total Market Rate Added</td>\n",
       "      <td>61,785</td>\n",
       "    </tr>\n",
       "    <tr>\n",
       "      <th>2</th>\n",
       "      <td>Total Units Added</td>\n",
       "      <td>103,435</td>\n",
       "    </tr>\n",
       "    <tr>\n",
       "      <th>3</th>\n",
       "      <td>Total RSO Removed</td>\n",
       "      <td>13,452</td>\n",
       "    </tr>\n",
       "    <tr>\n",
       "      <th>4</th>\n",
       "      <td>Net Benefit</td>\n",
       "      <td>89,983</td>\n",
       "    </tr>\n",
       "  </tbody>\n",
       "</table>\n",
       "</div>"
      ],
      "text/plain": [
       "                    Metric    Value\n",
       "0   Total Affordable Added   41,650\n",
       "1  Total Market Rate Added   61,785\n",
       "2        Total Units Added  103,435\n",
       "3        Total RSO Removed   13,452\n",
       "4              Net Benefit   89,983"
      ]
     },
     "metadata": {},
     "output_type": "display_data"
    }
   ],
   "source": [
    "# Select only the relevant metrics and sum their values\n",
    "summary_table = pd.DataFrame({\n",
    "    \"Metric\": [\n",
    "        \"Total Affordable Added\",\n",
    "        \"Total Market Rate Added\",\n",
    "        \"Total Units Added\",\n",
    "        \"Total RSO Removed\",\n",
    "        \"Net Benefit\"\n",
    "    ],\n",
    "    \"Value\": [\n",
    "        net_benefit_df[\"Total Affordable Added\"].sum(),\n",
    "        net_benefit_df[\"Total Market Rate Added\"].sum(),\n",
    "        net_benefit_df[\"Total Units Added\"].sum(),\n",
    "        net_benefit_df[\"Total RSO Removed\"].sum(),\n",
    "        net_benefit_df[\"Net Benefit\"].sum()\n",
    "    ]\n",
    "})\n",
    "\n",
    "# Format numbers with commas and no decimal places\n",
    "summary_table[\"Value\"] = summary_table[\"Value\"].apply(lambda x: f\"{x:,.0f}\")\n",
    "\n",
    "# Display the formatted table\n",
    "display(summary_table)"
   ]
  },
  {
   "cell_type": "code",
   "execution_count": 111,
   "id": "f0a28e65-93d9-40a1-b471-977e75ae72b3",
   "metadata": {},
   "outputs": [
    {
     "data": {
      "image/png": "[encoded data removed]",
      "text/plain": [
       "<Figure size 1400x700 with 4 Axes>"
      ]
     },
     "metadata": {},
     "output_type": "display_data"
    }
   ],
   "source": [
    "import geopandas as gpd\n",
    "import pandas as pd\n",
    "import matplotlib.pyplot as plt\n",
    "\n",
    "# Load the LA City Council Districts GeoJSON (Download first!)\n",
    "geojson_path = \"LA_City_Council_Districts_(2021).geojson\"  # Update with correct path\n",
    "council_districts = gpd.read_file(geojson_path)\n",
    "\n",
    "# Ensure the district IDs match in both datasets (adjust column names if needed)\n",
    "council_districts = council_districts.rename(columns={\"DISTRICT\": \"Council District\"})\n",
    "council_districts[\"Council District\"] = council_districts[\"Council District\"].astype(int)\n",
    "\n",
    "# Merge spatial data with net benefit data\n",
    "council_districts = council_districts.merge(net_benefit_df, on=\"Council District\", how=\"left\")\n",
    "\n",
    "# Create figure and axes for side-by-side maps\n",
    "fig, axes = plt.subplots(1, 2, figsize=(14, 7))\n",
    "\n",
    "# Map 1: RSOs Removed\n",
    "council_districts.plot(column=\"Total RSO Removed\", cmap=\"Reds\", linewidth=0.8, edgecolor=\"black\",\n",
    "                       legend=True, legend_kwds={\"label\": \"RSOs Removed\"}, ax=axes[0])\n",
    "axes[0].set_title(\"RSOs Removed by Council District\")\n",
    "\n",
    "# Map 2: Net Benefit\n",
    "council_districts.plot(column=\"Net Benefit\", cmap=\"Blues\", linewidth=0.8, edgecolor=\"black\",\n",
    "                       legend=True, legend_kwds={\"label\": \"Net Benefit\"}, ax=axes[1])\n",
    "axes[1].set_title(\"Net Benefit by Council District\")\n",
    "\n",
    "# Add Council District labels\n",
    "for idx, row in council_districts.iterrows():\n",
    "    axes[0].text(row.geometry.centroid.x, row.geometry.centroid.y, \n",
    "                 f\"{row['Council District']}\", fontsize=10, ha='center', color=\"black\", \n",
    "                 weight='bold', bbox=dict(facecolor='white', alpha=0.6))\n",
    "\n",
    "    axes[1].text(row.geometry.centroid.x, row.geometry.centroid.y, \n",
    "                 f\"{row['Council District']}\", fontsize=10, ha='center', color=\"black\", \n",
    "                 weight='bold', bbox=dict(facecolor='white', alpha=0.6))\n",
    "\n",
    "# Remove axes for a cleaner look\n",
    "for ax in axes:\n",
    "    ax.set_axis_off()\n",
    "\n",
    "# Save the figure as an image\n",
    "plt.savefig(\"RSO_vs_Net_Benefit_Maps.png\", dpi=300, bbox_inches=\"tight\")\n",
    "\n",
    "# Show maps\n",
    "plt.tight_layout()\n",
    "plt.show()"
   ]
  },
  {
   "cell_type": "markdown",
   "id": "e6f874c3-fa4e-48f7-b8f0-783156bdbf3d",
   "metadata": {},
   "source": [
    "## Distribution of Entitlement Types"
   ]
  },
  {
   "cell_type": "code",
   "execution_count": 5,
   "id": "e3d06446-33be-45da-a20c-38714be3ce0e",
   "metadata": {},
   "outputs": [
    {
     "data": {
      "application/vnd.plotly.v1+json": {
       "config": {
        "plotlyServerURL": "https://plot.ly"
       },
       "data": [
        {
         "alignmentgroup": "True",
         "hovertemplate": "Entitlement Type=%{x}<br>Number of Occurrences=%{y}<extra></extra>",
         "legendgroup": "",
         "marker": {
          "color": "#636efa",
          "pattern": {
           "shape": ""
          }
         },
         "name": "",
         "offsetgroup": "",
         "orientation": "v",
         "showlegend": false,
         "textposition": "auto",
         "texttemplate": "%{y}",
         "type": "bar",
         "x": [
          "Density Bonus",
          "TOC",
          "ED1",
          "Other",
          "UDU"
         ],
         "xaxis": "x",
         "y": [
          817,
          484,
          256,
          255,
          42
         ],
         "yaxis": "y"
        }
       ],
       "layout": {
        "autosize": true,
        "barmode": "relative",
        "legend": {
         "tracegroupgap": 0
        },
        "template": {
         "data": {
          "bar": [
           {
            "error_x": {
             "color": "#2a3f5f"
            },
            "error_y": {
             "color": "#2a3f5f"
            },
            "marker": {
             "line": {
              "color": "#E5ECF6",
              "width": 0.5
             },
             "pattern": {
              "fillmode": "overlay",
              "size": 10,
              "solidity": 0.2
             }
            },
            "type": "bar"
           }
          ],
          "barpolar": [
           {
            "marker": {
             "line": {
              "color": "#E5ECF6",
              "width": 0.5
             },
             "pattern": {
              "fillmode": "overlay",
              "size": 10,
              "solidity": 0.2
             }
            },
            "type": "barpolar"
           }
          ],
          "carpet": [
           {
            "aaxis": {
             "endlinecolor": "#2a3f5f",
             "gridcolor": "white",
             "linecolor": "white",
             "minorgridcolor": "white",
             "startlinecolor": "#2a3f5f"
            },
            "baxis": {
             "endlinecolor": "#2a3f5f",
             "gridcolor": "white",
             "linecolor": "white",
             "minorgridcolor": "white",
             "startlinecolor": "#2a3f5f"
            },
            "type": "carpet"
           }
          ],
          "choropleth": [
           {
            "colorbar": {
             "outlinewidth": 0,
             "ticks": ""
            },
            "type": "choropleth"
           }
          ],
          "contour": [
           {
            "colorbar": {
             "outlinewidth": 0,
             "ticks": ""
            },
            "colorscale": [
             [
              0,
              "#0d0887"
             ],
             [
              0.1111111111111111,
              "#46039f"
             ],
             [
              0.2222222222222222,
              "#7201a8"
             ],
             [
              0.3333333333333333,
              "#9c179e"
             ],
             [
              0.4444444444444444,
              "#bd3786"
             ],
             [
              0.5555555555555556,
              "#d8576b"
             ],
             [
              0.6666666666666666,
              "#ed7953"
             ],
             [
              0.7777777777777778,
              "#fb9f3a"
             ],
             [
              0.8888888888888888,
              "#fdca26"
             ],
             [
              1,
              "#f0f921"
             ]
            ],
            "type": "contour"
           }
          ],
          "contourcarpet": [
           {
            "colorbar": {
             "outlinewidth": 0,
             "ticks": ""
            },
            "type": "contourcarpet"
           }
          ],
          "heatmap": [
           {
            "colorbar": {
             "outlinewidth": 0,
             "ticks": ""
            },
            "colorscale": [
             [
              0,
              "#0d0887"
             ],
             [
              0.1111111111111111,
              "#46039f"
             ],
             [
              0.2222222222222222,
              "#7201a8"
             ],
             [
              0.3333333333333333,
              "#9c179e"
             ],
             [
              0.4444444444444444,
              "#bd3786"
             ],
             [
              0.5555555555555556,
              "#d8576b"
             ],
             [
              0.6666666666666666,
              "#ed7953"
             ],
             [
              0.7777777777777778,
              "#fb9f3a"
             ],
             [
              0.8888888888888888,
              "#fdca26"
             ],
             [
              1,
              "#f0f921"
             ]
            ],
            "type": "heatmap"
           }
          ],
          "heatmapgl": [
           {
            "colorbar": {
             "outlinewidth": 0,
             "ticks": ""
            },
            "colorscale": [
             [
              0,
              "#0d0887"
             ],
             [
              0.1111111111111111,
              "#46039f"
             ],
             [
              0.2222222222222222,
              "#7201a8"
             ],
             [
              0.3333333333333333,
              "#9c179e"
             ],
             [
              0.4444444444444444,
              "#bd3786"
             ],
             [
              0.5555555555555556,
              "#d8576b"
             ],
             [
              0.6666666666666666,
              "#ed7953"
             ],
             [
              0.7777777777777778,
              "#fb9f3a"
             ],
             [
              0.8888888888888888,
              "#fdca26"
             ],
             [
              1,
              "#f0f921"
             ]
            ],
            "type": "heatmapgl"
           }
          ],
          "histogram": [
           {
            "marker": {
             "pattern": {
              "fillmode": "overlay",
              "size": 10,
              "solidity": 0.2
             }
            },
            "type": "histogram"
           }
          ],
          "histogram2d": [
           {
            "colorbar": {
             "outlinewidth": 0,
             "ticks": ""
            },
            "colorscale": [
             [
              0,
              "#0d0887"
             ],
             [
              0.1111111111111111,
              "#46039f"
             ],
             [
              0.2222222222222222,
              "#7201a8"
             ],
             [
              0.3333333333333333,
              "#9c179e"
             ],
             [
              0.4444444444444444,
              "#bd3786"
             ],
             [
              0.5555555555555556,
              "#d8576b"
             ],
             [
              0.6666666666666666,
              "#ed7953"
             ],
             [
              0.7777777777777778,
              "#fb9f3a"
             ],
             [
              0.8888888888888888,
              "#fdca26"
             ],
             [
              1,
              "#f0f921"
             ]
            ],
            "type": "histogram2d"
           }
          ],
          "histogram2dcontour": [
           {
            "colorbar": {
             "outlinewidth": 0,
             "ticks": ""
            },
            "colorscale": [
             [
              0,
              "#0d0887"
             ],
             [
              0.1111111111111111,
              "#46039f"
             ],
             [
              0.2222222222222222,
              "#7201a8"
             ],
             [
              0.3333333333333333,
              "#9c179e"
             ],
             [
              0.4444444444444444,
              "#bd3786"
             ],
             [
              0.5555555555555556,
              "#d8576b"
             ],
             [
              0.6666666666666666,
              "#ed7953"
             ],
             [
              0.7777777777777778,
              "#fb9f3a"
             ],
             [
              0.8888888888888888,
              "#fdca26"
             ],
             [
              1,
              "#f0f921"
             ]
            ],
            "type": "histogram2dcontour"
           }
          ],
          "mesh3d": [
           {
            "colorbar": {
             "outlinewidth": 0,
             "ticks": ""
            },
            "type": "mesh3d"
           }
          ],
          "parcoords": [
           {
            "line": {
             "colorbar": {
              "outlinewidth": 0,
              "ticks": ""
             }
            },
            "type": "parcoords"
           }
          ],
          "pie": [
           {
            "automargin": true,
            "type": "pie"
           }
          ],
          "scatter": [
           {
            "fillpattern": {
             "fillmode": "overlay",
             "size": 10,
             "solidity": 0.2
            },
            "type": "scatter"
           }
          ],
          "scatter3d": [
           {
            "line": {
             "colorbar": {
              "outlinewidth": 0,
              "ticks": ""
             }
            },
            "marker": {
             "colorbar": {
              "outlinewidth": 0,
              "ticks": ""
             }
            },
            "type": "scatter3d"
           }
          ],
          "scattercarpet": [
           {
            "marker": {
             "colorbar": {
              "outlinewidth": 0,
              "ticks": ""
             }
            },
            "type": "scattercarpet"
           }
          ],
          "scattergeo": [
           {
            "marker": {
             "colorbar": {
              "outlinewidth": 0,
              "ticks": ""
             }
            },
            "type": "scattergeo"
           }
          ],
          "scattergl": [
           {
            "marker": {
             "colorbar": {
              "outlinewidth": 0,
              "ticks": ""
             }
            },
            "type": "scattergl"
           }
          ],
          "scattermapbox": [
           {
            "marker": {
             "colorbar": {
              "outlinewidth": 0,
              "ticks": ""
             }
            },
            "type": "scattermapbox"
           }
          ],
          "scatterpolar": [
           {
            "marker": {
             "colorbar": {
              "outlinewidth": 0,
              "ticks": ""
             }
            },
            "type": "scatterpolar"
           }
          ],
          "scatterpolargl": [
           {
            "marker": {
             "colorbar": {
              "outlinewidth": 0,
              "ticks": ""
             }
            },
            "type": "scatterpolargl"
           }
          ],
          "scatterternary": [
           {
            "marker": {
             "colorbar": {
              "outlinewidth": 0,
              "ticks": ""
             }
            },
            "type": "scatterternary"
           }
          ],
          "surface": [
           {
            "colorbar": {
             "outlinewidth": 0,
             "ticks": ""
            },
            "colorscale": [
             [
              0,
              "#0d0887"
             ],
             [
              0.1111111111111111,
              "#46039f"
             ],
             [
              0.2222222222222222,
              "#7201a8"
             ],
             [
              0.3333333333333333,
              "#9c179e"
             ],
             [
              0.4444444444444444,
              "#bd3786"
             ],
             [
              0.5555555555555556,
              "#d8576b"
             ],
             [
              0.6666666666666666,
              "#ed7953"
             ],
             [
              0.7777777777777778,
              "#fb9f3a"
             ],
             [
              0.8888888888888888,
              "#fdca26"
             ],
             [
              1,
              "#f0f921"
             ]
            ],
            "type": "surface"
           }
          ],
          "table": [
           {
            "cells": {
             "fill": {
              "color": "#EBF0F8"
             },
             "line": {
              "color": "white"
             }
            },
            "header": {
             "fill": {
              "color": "#C8D4E3"
             },
             "line": {
              "color": "white"
             }
            },
            "type": "table"
           }
          ]
         },
         "layout": {
          "annotationdefaults": {
           "arrowcolor": "#2a3f5f",
           "arrowhead": 0,
           "arrowwidth": 1
          },
          "autotypenumbers": "strict",
          "coloraxis": {
           "colorbar": {
            "outlinewidth": 0,
            "ticks": ""
           }
          },
          "colorscale": {
           "diverging": [
            [
             0,
             "#8e0152"
            ],
            [
             0.1,
             "#c51b7d"
            ],
            [
             0.2,
             "#de77ae"
            ],
            [
             0.3,
             "#f1b6da"
            ],
            [
             0.4,
             "#fde0ef"
            ],
            [
             0.5,
             "#f7f7f7"
            ],
            [
             0.6,
             "#e6f5d0"
            ],
            [
             0.7,
             "#b8e186"
            ],
            [
             0.8,
             "#7fbc41"
            ],
            [
             0.9,
             "#4d9221"
            ],
            [
             1,
             "#276419"
            ]
           ],
           "sequential": [
            [
             0,
             "#0d0887"
            ],
            [
             0.1111111111111111,
             "#46039f"
            ],
            [
             0.2222222222222222,
             "#7201a8"
            ],
            [
             0.3333333333333333,
             "#9c179e"
            ],
            [
             0.4444444444444444,
             "#bd3786"
            ],
            [
             0.5555555555555556,
             "#d8576b"
            ],
            [
             0.6666666666666666,
             "#ed7953"
            ],
            [
             0.7777777777777778,
             "#fb9f3a"
            ],
            [
             0.8888888888888888,
             "#fdca26"
            ],
            [
             1,
             "#f0f921"
            ]
           ],
           "sequentialminus": [
            [
             0,
             "#0d0887"
            ],
            [
             0.1111111111111111,
             "#46039f"
            ],
            [
             0.2222222222222222,
             "#7201a8"
            ],
            [
             0.3333333333333333,
             "#9c179e"
            ],
            [
             0.4444444444444444,
             "#bd3786"
            ],
            [
             0.5555555555555556,
             "#d8576b"
            ],
            [
             0.6666666666666666,
             "#ed7953"
            ],
            [
             0.7777777777777778,
             "#fb9f3a"
            ],
            [
             0.8888888888888888,
             "#fdca26"
            ],
            [
             1,
             "#f0f921"
            ]
           ]
          },
          "colorway": [
           "#636efa",
           "#EF553B",
           "#00cc96",
           "#ab63fa",
           "#FFA15A",
           "#19d3f3",
           "#FF6692",
           "#B6E880",
           "#FF97FF",
           "#FECB52"
          ],
          "font": {
           "color": "#2a3f5f"
          },
          "geo": {
           "bgcolor": "white",
           "lakecolor": "white",
           "landcolor": "#E5ECF6",
           "showlakes": true,
           "showland": true,
           "subunitcolor": "white"
          },
          "hoverlabel": {
           "align": "left"
          },
          "hovermode": "closest",
          "mapbox": {
           "style": "light"
          },
          "paper_bgcolor": "white",
          "plot_bgcolor": "#E5ECF6",
          "polar": {
           "angularaxis": {
            "gridcolor": "white",
            "linecolor": "white",
            "ticks": ""
           },
           "bgcolor": "#E5ECF6",
           "radialaxis": {
            "gridcolor": "white",
            "linecolor": "white",
            "ticks": ""
           }
          },
          "scene": {
           "xaxis": {
            "backgroundcolor": "#E5ECF6",
            "gridcolor": "white",
            "gridwidth": 2,
            "linecolor": "white",
            "showbackground": true,
            "ticks": "",
            "zerolinecolor": "white"
           },
           "yaxis": {
            "backgroundcolor": "#E5ECF6",
            "gridcolor": "white",
            "gridwidth": 2,
            "linecolor": "white",
            "showbackground": true,
            "ticks": "",
            "zerolinecolor": "white"
           },
           "zaxis": {
            "backgroundcolor": "#E5ECF6",
            "gridcolor": "white",
            "gridwidth": 2,
            "linecolor": "white",
            "showbackground": true,
            "ticks": "",
            "zerolinecolor": "white"
           }
          },
          "shapedefaults": {
           "line": {
            "color": "#2a3f5f"
           }
          },
          "ternary": {
           "aaxis": {
            "gridcolor": "white",
            "linecolor": "white",
            "ticks": ""
           },
           "baxis": {
            "gridcolor": "white",
            "linecolor": "white",
            "ticks": ""
           },
           "bgcolor": "#E5ECF6",
           "caxis": {
            "gridcolor": "white",
            "linecolor": "white",
            "ticks": ""
           }
          },
          "title": {
           "x": 0.05
          },
          "xaxis": {
           "automargin": true,
           "gridcolor": "white",
           "linecolor": "white",
           "ticks": "",
           "title": {
            "standoff": 15
           },
           "zerolinecolor": "white",
           "zerolinewidth": 2
          },
          "yaxis": {
           "automargin": true,
           "gridcolor": "white",
           "linecolor": "white",
           "ticks": "",
           "title": {
            "standoff": 15
           },
           "zerolinecolor": "white",
           "zerolinewidth": 2
          }
         }
        },
        "title": {
         "text": "Distribution of Entitlement Types"
        },
        "xaxis": {
         "anchor": "y",
         "autorange": true,
         "domain": [
          0,
          1
         ],
         "range": [
          -0.5,
          4.5
         ],
         "title": {
          "text": "Entitlement Type"
         },
         "type": "category"
        },
        "yaxis": {
         "anchor": "x",
         "autorange": true,
         "domain": [
          0,
          1
         ],
         "range": [
          0,
          860
         ],
         "title": {
          "text": "Number of Occurrences"
         },
         "type": "linear"
        }
       }
      },
      "image/png": "[encoded data removed]",
      "text/html": [
       "<div>                            <div id=\"22f0f293-1ad9-469a-a5e5-c09537bec8a9\" class=\"plotly-graph-div\" style=\"height:525px; width:100%;\"></div>            <script type=\"text/javascript\">                require([\"plotly\"], function(Plotly) {                    window.PLOTLYENV=window.PLOTLYENV || {};                                    if (document.getElementById(\"22f0f293-1ad9-469a-a5e5-c09537bec8a9\")) {                    Plotly.newPlot(                        \"22f0f293-1ad9-469a-a5e5-c09537bec8a9\",                        [{\"alignmentgroup\":\"True\",\"hovertemplate\":\"Entitlement Type=%{x}\\u003cbr\\u003eNumber of Occurrences=%{y}\\u003cextra\\u003e\\u003c\\u002fextra\\u003e\",\"legendgroup\":\"\",\"marker\":{\"color\":\"#636efa\",\"pattern\":{\"shape\":\"\"}},\"name\":\"\",\"offsetgroup\":\"\",\"orientation\":\"v\",\"showlegend\":false,\"textposition\":\"auto\",\"texttemplate\":\"%{y}\",\"x\":[\"Density Bonus\",\"TOC\",\"ED1\",\"Other\",\"UDU\"],\"xaxis\":\"x\",\"y\":[817,484,256,255,42],\"yaxis\":\"y\",\"type\":\"bar\"}],                        {\"template\":{\"data\":{\"histogram2dcontour\":[{\"type\":\"histogram2dcontour\",\"colorbar\":{\"outlinewidth\":0,\"ticks\":\"\"},\"colorscale\":[[0.0,\"#0d0887\"],[0.1111111111111111,\"#46039f\"],[0.2222222222222222,\"#7201a8\"],[0.3333333333333333,\"#9c179e\"],[0.4444444444444444,\"#bd3786\"],[0.5555555555555556,\"#d8576b\"],[0.6666666666666666,\"#ed7953\"],[0.7777777777777778,\"#fb9f3a\"],[0.8888888888888888,\"#fdca26\"],[1.0,\"#f0f921\"]]}],\"choropleth\":[{\"type\":\"choropleth\",\"colorbar\":{\"outlinewidth\":0,\"ticks\":\"\"}}],\"histogram2d\":[{\"type\":\"histogram2d\",\"colorbar\":{\"outlinewidth\":0,\"ticks\":\"\"},\"colorscale\":[[0.0,\"#0d0887\"],[0.1111111111111111,\"#46039f\"],[0.2222222222222222,\"#7201a8\"],[0.3333333333333333,\"#9c179e\"],[0.4444444444444444,\"#bd3786\"],[0.5555555555555556,\"#d8576b\"],[0.6666666666666666,\"#ed7953\"],[0.7777777777777778,\"#fb9f3a\"],[0.8888888888888888,\"#fdca26\"],[1.0,\"#f0f921\"]]}],\"heatmap\":[{\"type\":\"heatmap\",\"colorbar\":{\"outlinewidth\":0,\"ticks\":\"\"},\"colorscale\":[[0.0,\"#0d0887\"],[0.1111111111111111,\"#46039f\"],[0.2222222222222222,\"#7201a8\"],[0.3333333333333333,\"#9c179e\"],[0.4444444444444444,\"#bd3786\"],[0.5555555555555556,\"#d8576b\"],[0.6666666666666666,\"#ed7953\"],[0.7777777777777778,\"#fb9f3a\"],[0.8888888888888888,\"#fdca26\"],[1.0,\"#f0f921\"]]}],\"heatmapgl\":[{\"type\":\"heatmapgl\",\"colorbar\":{\"outlinewidth\":0,\"ticks\":\"\"},\"colorscale\":[[0.0,\"#0d0887\"],[0.1111111111111111,\"#46039f\"],[0.2222222222222222,\"#7201a8\"],[0.3333333333333333,\"#9c179e\"],[0.4444444444444444,\"#bd3786\"],[0.5555555555555556,\"#d8576b\"],[0.6666666666666666,\"#ed7953\"],[0.7777777777777778,\"#fb9f3a\"],[0.8888888888888888,\"#fdca26\"],[1.0,\"#f0f921\"]]}],\"contourcarpet\":[{\"type\":\"contourcarpet\",\"colorbar\":{\"outlinewidth\":0,\"ticks\":\"\"}}],\"contour\":[{\"type\":\"contour\",\"colorbar\":{\"outlinewidth\":0,\"ticks\":\"\"},\"colorscale\":[[0.0,\"#0d0887\"],[0.1111111111111111,\"#46039f\"],[0.2222222222222222,\"#7201a8\"],[0.3333333333333333,\"#9c179e\"],[0.4444444444444444,\"#bd3786\"],[0.5555555555555556,\"#d8576b\"],[0.6666666666666666,\"#ed7953\"],[0.7777777777777778,\"#fb9f3a\"],[0.8888888888888888,\"#fdca26\"],[1.0,\"#f0f921\"]]}],\"surface\":[{\"type\":\"surface\",\"colorbar\":{\"outlinewidth\":0,\"ticks\":\"\"},\"colorscale\":[[0.0,\"#0d0887\"],[0.1111111111111111,\"#46039f\"],[0.2222222222222222,\"#7201a8\"],[0.3333333333333333,\"#9c179e\"],[0.4444444444444444,\"#bd3786\"],[0.5555555555555556,\"#d8576b\"],[0.6666666666666666,\"#ed7953\"],[0.7777777777777778,\"#fb9f3a\"],[0.8888888888888888,\"#fdca26\"],[1.0,\"#f0f921\"]]}],\"mesh3d\":[{\"type\":\"mesh3d\",\"colorbar\":{\"outlinewidth\":0,\"ticks\":\"\"}}],\"scatter\":[{\"fillpattern\":{\"fillmode\":\"overlay\",\"size\":10,\"solidity\":0.2},\"type\":\"scatter\"}],\"parcoords\":[{\"type\":\"parcoords\",\"line\":{\"colorbar\":{\"outlinewidth\":0,\"ticks\":\"\"}}}],\"scatterpolargl\":[{\"type\":\"scatterpolargl\",\"marker\":{\"colorbar\":{\"outlinewidth\":0,\"ticks\":\"\"}}}],\"bar\":[{\"error_x\":{\"color\":\"#2a3f5f\"},\"error_y\":{\"color\":\"#2a3f5f\"},\"marker\":{\"line\":{\"color\":\"#E5ECF6\",\"width\":0.5},\"pattern\":{\"fillmode\":\"overlay\",\"size\":10,\"solidity\":0.2}},\"type\":\"bar\"}],\"scattergeo\":[{\"type\":\"scattergeo\",\"marker\":{\"colorbar\":{\"outlinewidth\":0,\"ticks\":\"\"}}}],\"scatterpolar\":[{\"type\":\"scatterpolar\",\"marker\":{\"colorbar\":{\"outlinewidth\":0,\"ticks\":\"\"}}}],\"histogram\":[{\"marker\":{\"pattern\":{\"fillmode\":\"overlay\",\"size\":10,\"solidity\":0.2}},\"type\":\"histogram\"}],\"scattergl\":[{\"type\":\"scattergl\",\"marker\":{\"colorbar\":{\"outlinewidth\":0,\"ticks\":\"\"}}}],\"scatter3d\":[{\"type\":\"scatter3d\",\"line\":{\"colorbar\":{\"outlinewidth\":0,\"ticks\":\"\"}},\"marker\":{\"colorbar\":{\"outlinewidth\":0,\"ticks\":\"\"}}}],\"scattermapbox\":[{\"type\":\"scattermapbox\",\"marker\":{\"colorbar\":{\"outlinewidth\":0,\"ticks\":\"\"}}}],\"scatterternary\":[{\"type\":\"scatterternary\",\"marker\":{\"colorbar\":{\"outlinewidth\":0,\"ticks\":\"\"}}}],\"scattercarpet\":[{\"type\":\"scattercarpet\",\"marker\":{\"colorbar\":{\"outlinewidth\":0,\"ticks\":\"\"}}}],\"carpet\":[{\"aaxis\":{\"endlinecolor\":\"#2a3f5f\",\"gridcolor\":\"white\",\"linecolor\":\"white\",\"minorgridcolor\":\"white\",\"startlinecolor\":\"#2a3f5f\"},\"baxis\":{\"endlinecolor\":\"#2a3f5f\",\"gridcolor\":\"white\",\"linecolor\":\"white\",\"minorgridcolor\":\"white\",\"startlinecolor\":\"#2a3f5f\"},\"type\":\"carpet\"}],\"table\":[{\"cells\":{\"fill\":{\"color\":\"#EBF0F8\"},\"line\":{\"color\":\"white\"}},\"header\":{\"fill\":{\"color\":\"#C8D4E3\"},\"line\":{\"color\":\"white\"}},\"type\":\"table\"}],\"barpolar\":[{\"marker\":{\"line\":{\"color\":\"#E5ECF6\",\"width\":0.5},\"pattern\":{\"fillmode\":\"overlay\",\"size\":10,\"solidity\":0.2}},\"type\":\"barpolar\"}],\"pie\":[{\"automargin\":true,\"type\":\"pie\"}]},\"layout\":{\"autotypenumbers\":\"strict\",\"colorway\":[\"#636efa\",\"#EF553B\",\"#00cc96\",\"#ab63fa\",\"#FFA15A\",\"#19d3f3\",\"#FF6692\",\"#B6E880\",\"#FF97FF\",\"#FECB52\"],\"font\":{\"color\":\"#2a3f5f\"},\"hovermode\":\"closest\",\"hoverlabel\":{\"align\":\"left\"},\"paper_bgcolor\":\"white\",\"plot_bgcolor\":\"#E5ECF6\",\"polar\":{\"bgcolor\":\"#E5ECF6\",\"angularaxis\":{\"gridcolor\":\"white\",\"linecolor\":\"white\",\"ticks\":\"\"},\"radialaxis\":{\"gridcolor\":\"white\",\"linecolor\":\"white\",\"ticks\":\"\"}},\"ternary\":{\"bgcolor\":\"#E5ECF6\",\"aaxis\":{\"gridcolor\":\"white\",\"linecolor\":\"white\",\"ticks\":\"\"},\"baxis\":{\"gridcolor\":\"white\",\"linecolor\":\"white\",\"ticks\":\"\"},\"caxis\":{\"gridcolor\":\"white\",\"linecolor\":\"white\",\"ticks\":\"\"}},\"coloraxis\":{\"colorbar\":{\"outlinewidth\":0,\"ticks\":\"\"}},\"colorscale\":{\"sequential\":[[0.0,\"#0d0887\"],[0.1111111111111111,\"#46039f\"],[0.2222222222222222,\"#7201a8\"],[0.3333333333333333,\"#9c179e\"],[0.4444444444444444,\"#bd3786\"],[0.5555555555555556,\"#d8576b\"],[0.6666666666666666,\"#ed7953\"],[0.7777777777777778,\"#fb9f3a\"],[0.8888888888888888,\"#fdca26\"],[1.0,\"#f0f921\"]],\"sequentialminus\":[[0.0,\"#0d0887\"],[0.1111111111111111,\"#46039f\"],[0.2222222222222222,\"#7201a8\"],[0.3333333333333333,\"#9c179e\"],[0.4444444444444444,\"#bd3786\"],[0.5555555555555556,\"#d8576b\"],[0.6666666666666666,\"#ed7953\"],[0.7777777777777778,\"#fb9f3a\"],[0.8888888888888888,\"#fdca26\"],[1.0,\"#f0f921\"]],\"diverging\":[[0,\"#8e0152\"],[0.1,\"#c51b7d\"],[0.2,\"#de77ae\"],[0.3,\"#f1b6da\"],[0.4,\"#fde0ef\"],[0.5,\"#f7f7f7\"],[0.6,\"#e6f5d0\"],[0.7,\"#b8e186\"],[0.8,\"#7fbc41\"],[0.9,\"#4d9221\"],[1,\"#276419\"]]},\"xaxis\":{\"gridcolor\":\"white\",\"linecolor\":\"white\",\"ticks\":\"\",\"title\":{\"standoff\":15},\"zerolinecolor\":\"white\",\"automargin\":true,\"zerolinewidth\":2},\"yaxis\":{\"gridcolor\":\"white\",\"linecolor\":\"white\",\"ticks\":\"\",\"title\":{\"standoff\":15},\"zerolinecolor\":\"white\",\"automargin\":true,\"zerolinewidth\":2},\"scene\":{\"xaxis\":{\"backgroundcolor\":\"#E5ECF6\",\"gridcolor\":\"white\",\"linecolor\":\"white\",\"showbackground\":true,\"ticks\":\"\",\"zerolinecolor\":\"white\",\"gridwidth\":2},\"yaxis\":{\"backgroundcolor\":\"#E5ECF6\",\"gridcolor\":\"white\",\"linecolor\":\"white\",\"showbackground\":true,\"ticks\":\"\",\"zerolinecolor\":\"white\",\"gridwidth\":2},\"zaxis\":{\"backgroundcolor\":\"#E5ECF6\",\"gridcolor\":\"white\",\"linecolor\":\"white\",\"showbackground\":true,\"ticks\":\"\",\"zerolinecolor\":\"white\",\"gridwidth\":2}},\"shapedefaults\":{\"line\":{\"color\":\"#2a3f5f\"}},\"annotationdefaults\":{\"arrowcolor\":\"#2a3f5f\",\"arrowhead\":0,\"arrowwidth\":1},\"geo\":{\"bgcolor\":\"white\",\"landcolor\":\"#E5ECF6\",\"subunitcolor\":\"white\",\"showland\":true,\"showlakes\":true,\"lakecolor\":\"white\"},\"title\":{\"x\":0.05},\"mapbox\":{\"style\":\"light\"}}},\"xaxis\":{\"anchor\":\"y\",\"domain\":[0.0,1.0],\"title\":{\"text\":\"Entitlement Type\"}},\"yaxis\":{\"anchor\":\"x\",\"domain\":[0.0,1.0],\"title\":{\"text\":\"Number of Occurrences\"}},\"legend\":{\"tracegroupgap\":0},\"title\":{\"text\":\"Distribution of Entitlement Types\"},\"barmode\":\"relative\"},                        {\"responsive\": true}                    ).then(function(){\n",
       "                            \n",
       "var gd = document.getElementById('22f0f293-1ad9-469a-a5e5-c09537bec8a9');\n",
       "var x = new MutationObserver(function (mutations, observer) {{\n",
       "        var display = window.getComputedStyle(gd).display;\n",
       "        if (!display || display === 'none') {{\n",
       "            console.log([gd, 'removed!']);\n",
       "            Plotly.purge(gd);\n",
       "            observer.disconnect();\n",
       "        }}\n",
       "}});\n",
       "\n",
       "// Listen for the removal of the full notebook cells\n",
       "var notebookContainer = gd.closest('#notebook-container');\n",
       "if (notebookContainer) {{\n",
       "    x.observe(notebookContainer, {childList: true});\n",
       "}}\n",
       "\n",
       "// Listen for the clearing of the current output cell\n",
       "var outputEl = gd.closest('.output');\n",
       "if (outputEl) {{\n",
       "    x.observe(outputEl, {childList: true});\n",
       "}}\n",
       "\n",
       "                        })                };                });            </script>        </div>"
      ]
     },
     "metadata": {},
     "output_type": "display_data"
    }
   ],
   "source": [
    "import pandas as pd\n",
    "import plotly.express as px\n",
    "\n",
    "# Load the geocoded land use covenants dataset\n",
    "land_use_covenants = pd.read_csv(\"geocoded_land_use_covenants.csv\")\n",
    "\n",
    "# Check for the \"Entitlements\" column\n",
    "if \"Entitlements\" in land_use_covenants.columns:\n",
    "    # Standardize entitlement names\n",
    "    entitlement_mapping = {\n",
    "        \"Density bonus\": \"Density Bonus\",\n",
    "        \"Transit Oriented Communities (Toc)\": \"TOC\",\n",
    "        \"transit oriented communities (Toc)\": \"TOC\",\n",
    "        \"ED1\": \"ED1\",\n",
    "        \"Other Ordinances Or Discretionary\": \"Other\",\n",
    "        \"other ordinances or discretionary\": \"Other\",\n",
    "        \"Unpermitted Dwelling Units (Udu)\": \"UDU\",\n",
    "        \"unpermitted dwelling units (udu)\": \"UDU\",\n",
    "        \"Density Bonus/Parking Reduction Only\": \"Density Bonus\",\n",
    "        \"Parking Reduction Only (Density Bonus Ordinance)\": \"Density Bonus\"\n",
    "    }\n",
    "    \n",
    "    land_use_covenants[\"Entitlements\"] = land_use_covenants[\"Entitlements\"].replace(entitlement_mapping)\n",
    "    \n",
    "    # Count occurrences of each entitlement type\n",
    "    entitlement_distribution = land_use_covenants[\"Entitlements\"].value_counts().reset_index()\n",
    "    entitlement_distribution.columns = [\"Entitlement Type\", \"Count\"]\n",
    "\n",
    "    # Create a bar chart using Plotly\n",
    "    fig = px.bar(entitlement_distribution, x=\"Entitlement Type\", y=\"Count\", \n",
    "                 title=\"Distribution of Entitlement Types\", \n",
    "                 labels={\"Count\": \"Number of Occurrences\", \"Entitlement Type\": \"Entitlement Type\"},\n",
    "                 text_auto=True)\n",
    "    \n",
    "    # Show the plot\n",
    "    fig.show()"
   ]
  },
  {
   "cell_type": "markdown",
   "id": "ed422aad-328a-401b-a7b1-6a6a1d38b119",
   "metadata": {},
   "source": [
    "## Change Over Time"
   ]
  },
  {
   "cell_type": "code",
   "execution_count": 125,
   "id": "123c4f93-bf2f-4295-8014-0e567c0329f4",
   "metadata": {},
   "outputs": [
    {
     "data": {
      "application/vnd.plotly.v1+json": {
       "config": {
        "plotlyServerURL": "https://plot.ly"
       },
       "data": [
        {
         "hovertemplate": "Category=Affordable Units<br>Year=%{x}<br>Number of Units=%{y}<extra></extra>",
         "legendgroup": "Affordable Units",
         "line": {
          "color": "#636efa",
          "dash": "solid"
         },
         "marker": {
          "symbol": "circle"
         },
         "mode": "lines+markers",
         "name": "Affordable Units",
         "orientation": "v",
         "showlegend": true,
         "type": "scatter",
         "x": [
          2007,
          2008,
          2009,
          2010,
          2011,
          2012,
          2013,
          2014,
          2015,
          2016,
          2017,
          2018,
          2019,
          2020,
          2021,
          2022,
          2023,
          2024
         ],
         "xaxis": "x",
         "y": [
          0,
          0,
          0,
          107,
          475,
          98,
          147,
          100,
          271,
          235,
          135,
          259,
          535,
          1880,
          1266,
          1320,
          0,
          8370
         ],
         "yaxis": "y"
        },
        {
         "hovertemplate": "Category=Total Units<br>Year=%{x}<br>Number of Units=%{y}<extra></extra>",
         "legendgroup": "Total Units",
         "line": {
          "color": "#EF553B",
          "dash": "solid"
         },
         "marker": {
          "symbol": "circle"
         },
         "mode": "lines+markers",
         "name": "Total Units",
         "orientation": "v",
         "showlegend": true,
         "type": "scatter",
         "x": [
          2007,
          2008,
          2009,
          2010,
          2011,
          2012,
          2013,
          2014,
          2015,
          2016,
          2017,
          2018,
          2019,
          2020,
          2021,
          2022,
          2023,
          2024
         ],
         "xaxis": "x",
         "y": [
          41,
          32,
          398,
          596,
          501,
          431,
          1352,
          822,
          2047,
          2343,
          1386,
          1706,
          3230,
          5644,
          4534,
          4356,
          0,
          8517
         ],
         "yaxis": "y"
        },
        {
         "hovertemplate": "Category=Total RSO Removed<br>Year=%{x}<br>Number of Units=%{y}<extra></extra>",
         "legendgroup": "Total RSO Removed",
         "line": {
          "color": "#00cc96",
          "dash": "solid"
         },
         "marker": {
          "symbol": "circle"
         },
         "mode": "lines+markers",
         "name": "Total RSO Removed",
         "orientation": "v",
         "showlegend": true,
         "type": "scatter",
         "x": [
          2007,
          2008,
          2009,
          2010,
          2011,
          2012,
          2013,
          2014,
          2015,
          2016,
          2017,
          2018,
          2019,
          2020,
          2021,
          2022,
          2023,
          2024
         ],
         "xaxis": "x",
         "y": [
          285,
          324,
          85,
          102,
          258,
          249,
          347,
          1105,
          1020,
          1045,
          1696,
          1750,
          1567,
          598,
          521,
          603,
          1623,
          277
         ],
         "yaxis": "y"
        },
        {
         "hovertemplate": "Category=Total Market Rate Added<br>Year=%{x}<br>Number of Units=%{y}<extra></extra>",
         "legendgroup": "Total Market Rate Added",
         "line": {
          "color": "#ab63fa",
          "dash": "solid"
         },
         "marker": {
          "symbol": "circle"
         },
         "mode": "lines+markers",
         "name": "Total Market Rate Added",
         "orientation": "v",
         "showlegend": true,
         "type": "scatter",
         "x": [
          2007,
          2008,
          2009,
          2010,
          2011,
          2012,
          2013,
          2014,
          2015,
          2016,
          2017,
          2018,
          2019,
          2020,
          2021,
          2022,
          2023,
          2024
         ],
         "xaxis": "x",
         "y": [
          41,
          32,
          398,
          489,
          26,
          333,
          1205,
          722,
          1776,
          2108,
          1251,
          1447,
          2695,
          3764,
          3268,
          3036,
          0,
          147
         ],
         "yaxis": "y"
        }
       ],
       "layout": {
        "autosize": true,
        "legend": {
         "title": {
          "text": "Category"
         },
         "tracegroupgap": 0
        },
        "template": {
         "data": {
          "bar": [
           {
            "error_x": {
             "color": "#2a3f5f"
            },
            "error_y": {
             "color": "#2a3f5f"
            },
            "marker": {
             "line": {
              "color": "#E5ECF6",
              "width": 0.5
             },
             "pattern": {
              "fillmode": "overlay",
              "size": 10,
              "solidity": 0.2
             }
            },
            "type": "bar"
           }
          ],
          "barpolar": [
           {
            "marker": {
             "line": {
              "color": "#E5ECF6",
              "width": 0.5
             },
             "pattern": {
              "fillmode": "overlay",
              "size": 10,
              "solidity": 0.2
             }
            },
            "type": "barpolar"
           }
          ],
          "carpet": [
           {
            "aaxis": {
             "endlinecolor": "#2a3f5f",
             "gridcolor": "white",
             "linecolor": "white",
             "minorgridcolor": "white",
             "startlinecolor": "#2a3f5f"
            },
            "baxis": {
             "endlinecolor": "#2a3f5f",
             "gridcolor": "white",
             "linecolor": "white",
             "minorgridcolor": "white",
             "startlinecolor": "#2a3f5f"
            },
            "type": "carpet"
           }
          ],
          "choropleth": [
           {
            "colorbar": {
             "outlinewidth": 0,
             "ticks": ""
            },
            "type": "choropleth"
           }
          ],
          "contour": [
           {
            "colorbar": {
             "outlinewidth": 0,
             "ticks": ""
            },
            "colorscale": [
             [
              0,
              "#0d0887"
             ],
             [
              0.1111111111111111,
              "#46039f"
             ],
             [
              0.2222222222222222,
              "#7201a8"
             ],
             [
              0.3333333333333333,
              "#9c179e"
             ],
             [
              0.4444444444444444,
              "#bd3786"
             ],
             [
              0.5555555555555556,
              "#d8576b"
             ],
             [
              0.6666666666666666,
              "#ed7953"
             ],
             [
              0.7777777777777778,
              "#fb9f3a"
             ],
             [
              0.8888888888888888,
              "#fdca26"
             ],
             [
              1,
              "#f0f921"
             ]
            ],
            "type": "contour"
           }
          ],
          "contourcarpet": [
           {
            "colorbar": {
             "outlinewidth": 0,
             "ticks": ""
            },
            "type": "contourcarpet"
           }
          ],
          "heatmap": [
           {
            "colorbar": {
             "outlinewidth": 0,
             "ticks": ""
            },
            "colorscale": [
             [
              0,
              "#0d0887"
             ],
             [
              0.1111111111111111,
              "#46039f"
             ],
             [
              0.2222222222222222,
              "#7201a8"
             ],
             [
              0.3333333333333333,
              "#9c179e"
             ],
             [
              0.4444444444444444,
              "#bd3786"
             ],
             [
              0.5555555555555556,
              "#d8576b"
             ],
             [
              0.6666666666666666,
              "#ed7953"
             ],
             [
              0.7777777777777778,
              "#fb9f3a"
             ],
             [
              0.8888888888888888,
              "#fdca26"
             ],
             [
              1,
              "#f0f921"
             ]
            ],
            "type": "heatmap"
           }
          ],
          "heatmapgl": [
           {
            "colorbar": {
             "outlinewidth": 0,
             "ticks": ""
            },
            "colorscale": [
             [
              0,
              "#0d0887"
             ],
             [
              0.1111111111111111,
              "#46039f"
             ],
             [
              0.2222222222222222,
              "#7201a8"
             ],
             [
              0.3333333333333333,
              "#9c179e"
             ],
             [
              0.4444444444444444,
              "#bd3786"
             ],
             [
              0.5555555555555556,
              "#d8576b"
             ],
             [
              0.6666666666666666,
              "#ed7953"
             ],
             [
              0.7777777777777778,
              "#fb9f3a"
             ],
             [
              0.8888888888888888,
              "#fdca26"
             ],
             [
              1,
              "#f0f921"
             ]
            ],
            "type": "heatmapgl"
           }
          ],
          "histogram": [
           {
            "marker": {
             "pattern": {
              "fillmode": "overlay",
              "size": 10,
              "solidity": 0.2
             }
            },
            "type": "histogram"
           }
          ],
          "histogram2d": [
           {
            "colorbar": {
             "outlinewidth": 0,
             "ticks": ""
            },
            "colorscale": [
             [
              0,
              "#0d0887"
             ],
             [
              0.1111111111111111,
              "#46039f"
             ],
             [
              0.2222222222222222,
              "#7201a8"
             ],
             [
              0.3333333333333333,
              "#9c179e"
             ],
             [
              0.4444444444444444,
              "#bd3786"
             ],
             [
              0.5555555555555556,
              "#d8576b"
             ],
             [
              0.6666666666666666,
              "#ed7953"
             ],
             [
              0.7777777777777778,
              "#fb9f3a"
             ],
             [
              0.8888888888888888,
              "#fdca26"
             ],
             [
              1,
              "#f0f921"
             ]
            ],
            "type": "histogram2d"
           }
          ],
          "histogram2dcontour": [
           {
            "colorbar": {
             "outlinewidth": 0,
             "ticks": ""
            },
            "colorscale": [
             [
              0,
              "#0d0887"
             ],
             [
              0.1111111111111111,
              "#46039f"
             ],
             [
              0.2222222222222222,
              "#7201a8"
             ],
             [
              0.3333333333333333,
              "#9c179e"
             ],
             [
              0.4444444444444444,
              "#bd3786"
             ],
             [
              0.5555555555555556,
              "#d8576b"
             ],
             [
              0.6666666666666666,
              "#ed7953"
             ],
             [
              0.7777777777777778,
              "#fb9f3a"
             ],
             [
              0.8888888888888888,
              "#fdca26"
             ],
             [
              1,
              "#f0f921"
             ]
            ],
            "type": "histogram2dcontour"
           }
          ],
          "mesh3d": [
           {
            "colorbar": {
             "outlinewidth": 0,
             "ticks": ""
            },
            "type": "mesh3d"
           }
          ],
          "parcoords": [
           {
            "line": {
             "colorbar": {
              "outlinewidth": 0,
              "ticks": ""
             }
            },
            "type": "parcoords"
           }
          ],
          "pie": [
           {
            "automargin": true,
            "type": "pie"
           }
          ],
          "scatter": [
           {
            "fillpattern": {
             "fillmode": "overlay",
             "size": 10,
             "solidity": 0.2
            },
            "type": "scatter"
           }
          ],
          "scatter3d": [
           {
            "line": {
             "colorbar": {
              "outlinewidth": 0,
              "ticks": ""
             }
            },
            "marker": {
             "colorbar": {
              "outlinewidth": 0,
              "ticks": ""
             }
            },
            "type": "scatter3d"
           }
          ],
          "scattercarpet": [
           {
            "marker": {
             "colorbar": {
              "outlinewidth": 0,
              "ticks": ""
             }
            },
            "type": "scattercarpet"
           }
          ],
          "scattergeo": [
           {
            "marker": {
             "colorbar": {
              "outlinewidth": 0,
              "ticks": ""
             }
            },
            "type": "scattergeo"
           }
          ],
          "scattergl": [
           {
            "marker": {
             "colorbar": {
              "outlinewidth": 0,
              "ticks": ""
             }
            },
            "type": "scattergl"
           }
          ],
          "scattermapbox": [
           {
            "marker": {
             "colorbar": {
              "outlinewidth": 0,
              "ticks": ""
             }
            },
            "type": "scattermapbox"
           }
          ],
          "scatterpolar": [
           {
            "marker": {
             "colorbar": {
              "outlinewidth": 0,
              "ticks": ""
             }
            },
            "type": "scatterpolar"
           }
          ],
          "scatterpolargl": [
           {
            "marker": {
             "colorbar": {
              "outlinewidth": 0,
              "ticks": ""
             }
            },
            "type": "scatterpolargl"
           }
          ],
          "scatterternary": [
           {
            "marker": {
             "colorbar": {
              "outlinewidth": 0,
              "ticks": ""
             }
            },
            "type": "scatterternary"
           }
          ],
          "surface": [
           {
            "colorbar": {
             "outlinewidth": 0,
             "ticks": ""
            },
            "colorscale": [
             [
              0,
              "#0d0887"
             ],
             [
              0.1111111111111111,
              "#46039f"
             ],
             [
              0.2222222222222222,
              "#7201a8"
             ],
             [
              0.3333333333333333,
              "#9c179e"
             ],
             [
              0.4444444444444444,
              "#bd3786"
             ],
             [
              0.5555555555555556,
              "#d8576b"
             ],
             [
              0.6666666666666666,
              "#ed7953"
             ],
             [
              0.7777777777777778,
              "#fb9f3a"
             ],
             [
              0.8888888888888888,
              "#fdca26"
             ],
             [
              1,
              "#f0f921"
             ]
            ],
            "type": "surface"
           }
          ],
          "table": [
           {
            "cells": {
             "fill": {
              "color": "#EBF0F8"
             },
             "line": {
              "color": "white"
             }
            },
            "header": {
             "fill": {
              "color": "#C8D4E3"
             },
             "line": {
              "color": "white"
             }
            },
            "type": "table"
           }
          ]
         },
         "layout": {
          "annotationdefaults": {
           "arrowcolor": "#2a3f5f",
           "arrowhead": 0,
           "arrowwidth": 1
          },
          "autotypenumbers": "strict",
          "coloraxis": {
           "colorbar": {
            "outlinewidth": 0,
            "ticks": ""
           }
          },
          "colorscale": {
           "diverging": [
            [
             0,
             "#8e0152"
            ],
            [
             0.1,
             "#c51b7d"
            ],
            [
             0.2,
             "#de77ae"
            ],
            [
             0.3,
             "#f1b6da"
            ],
            [
             0.4,
             "#fde0ef"
            ],
            [
             0.5,
             "#f7f7f7"
            ],
            [
             0.6,
             "#e6f5d0"
            ],
            [
             0.7,
             "#b8e186"
            ],
            [
             0.8,
             "#7fbc41"
            ],
            [
             0.9,
             "#4d9221"
            ],
            [
             1,
             "#276419"
            ]
           ],
           "sequential": [
            [
             0,
             "#0d0887"
            ],
            [
             0.1111111111111111,
             "#46039f"
            ],
            [
             0.2222222222222222,
             "#7201a8"
            ],
            [
             0.3333333333333333,
             "#9c179e"
            ],
            [
             0.4444444444444444,
             "#bd3786"
            ],
            [
             0.5555555555555556,
             "#d8576b"
            ],
            [
             0.6666666666666666,
             "#ed7953"
            ],
            [
             0.7777777777777778,
             "#fb9f3a"
            ],
            [
             0.8888888888888888,
             "#fdca26"
            ],
            [
             1,
             "#f0f921"
            ]
           ],
           "sequentialminus": [
            [
             0,
             "#0d0887"
            ],
            [
             0.1111111111111111,
             "#46039f"
            ],
            [
             0.2222222222222222,
             "#7201a8"
            ],
            [
             0.3333333333333333,
             "#9c179e"
            ],
            [
             0.4444444444444444,
             "#bd3786"
            ],
            [
             0.5555555555555556,
             "#d8576b"
            ],
            [
             0.6666666666666666,
             "#ed7953"
            ],
            [
             0.7777777777777778,
             "#fb9f3a"
            ],
            [
             0.8888888888888888,
             "#fdca26"
            ],
            [
             1,
             "#f0f921"
            ]
           ]
          },
          "colorway": [
           "#636efa",
           "#EF553B",
           "#00cc96",
           "#ab63fa",
           "#FFA15A",
           "#19d3f3",
           "#FF6692",
           "#B6E880",
           "#FF97FF",
           "#FECB52"
          ],
          "font": {
           "color": "#2a3f5f"
          },
          "geo": {
           "bgcolor": "white",
           "lakecolor": "white",
           "landcolor": "#E5ECF6",
           "showlakes": true,
           "showland": true,
           "subunitcolor": "white"
          },
          "hoverlabel": {
           "align": "left"
          },
          "hovermode": "closest",
          "mapbox": {
           "style": "light"
          },
          "paper_bgcolor": "white",
          "plot_bgcolor": "#E5ECF6",
          "polar": {
           "angularaxis": {
            "gridcolor": "white",
            "linecolor": "white",
            "ticks": ""
           },
           "bgcolor": "#E5ECF6",
           "radialaxis": {
            "gridcolor": "white",
            "linecolor": "white",
            "ticks": ""
           }
          },
          "scene": {
           "xaxis": {
            "backgroundcolor": "#E5ECF6",
            "gridcolor": "white",
            "gridwidth": 2,
            "linecolor": "white",
            "showbackground": true,
            "ticks": "",
            "zerolinecolor": "white"
           },
           "yaxis": {
            "backgroundcolor": "#E5ECF6",
            "gridcolor": "white",
            "gridwidth": 2,
            "linecolor": "white",
            "showbackground": true,
            "ticks": "",
            "zerolinecolor": "white"
           },
           "zaxis": {
            "backgroundcolor": "#E5ECF6",
            "gridcolor": "white",
            "gridwidth": 2,
            "linecolor": "white",
            "showbackground": true,
            "ticks": "",
            "zerolinecolor": "white"
           }
          },
          "shapedefaults": {
           "line": {
            "color": "#2a3f5f"
           }
          },
          "ternary": {
           "aaxis": {
            "gridcolor": "white",
            "linecolor": "white",
            "ticks": ""
           },
           "baxis": {
            "gridcolor": "white",
            "linecolor": "white",
            "ticks": ""
           },
           "bgcolor": "#E5ECF6",
           "caxis": {
            "gridcolor": "white",
            "linecolor": "white",
            "ticks": ""
           }
          },
          "title": {
           "x": 0.05
          },
          "xaxis": {
           "automargin": true,
           "gridcolor": "white",
           "linecolor": "white",
           "ticks": "",
           "title": {
            "standoff": 15
           },
           "zerolinecolor": "white",
           "zerolinewidth": 2
          },
          "yaxis": {
           "automargin": true,
           "gridcolor": "white",
           "linecolor": "white",
           "ticks": "",
           "title": {
            "standoff": 15
           },
           "zerolinecolor": "white",
           "zerolinewidth": 2
          }
         }
        },
        "title": {
         "text": "Change in RSO Removed, Affordable, Market Rate, and Total Units Over Time"
        },
        "xaxis": {
         "anchor": "y",
         "autorange": true,
         "domain": [
          0,
          1
         ],
         "range": [
          2005.9539586919104,
          2025.0460413080896
         ],
         "title": {
          "text": "Year"
         },
         "type": "linear"
        },
        "yaxis": {
         "anchor": "x",
         "autorange": true,
         "domain": [
          0,
          1
         ],
         "range": [
          -702.8592233009708,
          9219.859223300971
         ],
         "title": {
          "text": "Number of Units"
         },
         "type": "linear"
        }
       }
      },
      "image/png": "[encoded data removed]",
      "text/html": [
       "<div>                            <div id=\"6017a06a-a9a2-4a13-962f-05edb42c9672\" class=\"plotly-graph-div\" style=\"height:525px; width:100%;\"></div>            <script type=\"text/javascript\">                require([\"plotly\"], function(Plotly) {                    window.PLOTLYENV=window.PLOTLYENV || {};                                    if (document.getElementById(\"6017a06a-a9a2-4a13-962f-05edb42c9672\")) {                    Plotly.newPlot(                        \"6017a06a-a9a2-4a13-962f-05edb42c9672\",                        [{\"hovertemplate\":\"Category=Affordable Units\\u003cbr\\u003eYear=%{x}\\u003cbr\\u003eNumber of Units=%{y}\\u003cextra\\u003e\\u003c\\u002fextra\\u003e\",\"legendgroup\":\"Affordable Units\",\"line\":{\"color\":\"#636efa\",\"dash\":\"solid\"},\"marker\":{\"symbol\":\"circle\"},\"mode\":\"lines+markers\",\"name\":\"Affordable Units\",\"orientation\":\"v\",\"showlegend\":true,\"x\":[2007,2008,2009,2010,2011,2012,2013,2014,2015,2016,2017,2018,2019,2020,2021,2022,2023,2024],\"xaxis\":\"x\",\"y\":[0.0,0.0,0.0,107.0,475.0,98.0,147.0,100.0,271.0,235.0,135.0,259.0,535.0,1880.0,1266.0,1320.0,0.0,8370.0],\"yaxis\":\"y\",\"type\":\"scatter\"},{\"hovertemplate\":\"Category=Total Units\\u003cbr\\u003eYear=%{x}\\u003cbr\\u003eNumber of Units=%{y}\\u003cextra\\u003e\\u003c\\u002fextra\\u003e\",\"legendgroup\":\"Total Units\",\"line\":{\"color\":\"#EF553B\",\"dash\":\"solid\"},\"marker\":{\"symbol\":\"circle\"},\"mode\":\"lines+markers\",\"name\":\"Total Units\",\"orientation\":\"v\",\"showlegend\":true,\"x\":[2007,2008,2009,2010,2011,2012,2013,2014,2015,2016,2017,2018,2019,2020,2021,2022,2023,2024],\"xaxis\":\"x\",\"y\":[41.0,32.0,398.0,596.0,501.0,431.0,1352.0,822.0,2047.0,2343.0,1386.0,1706.0,3230.0,5644.0,4534.0,4356.0,0.0,8517.0],\"yaxis\":\"y\",\"type\":\"scatter\"},{\"hovertemplate\":\"Category=Total RSO Removed\\u003cbr\\u003eYear=%{x}\\u003cbr\\u003eNumber of Units=%{y}\\u003cextra\\u003e\\u003c\\u002fextra\\u003e\",\"legendgroup\":\"Total RSO Removed\",\"line\":{\"color\":\"#00cc96\",\"dash\":\"solid\"},\"marker\":{\"symbol\":\"circle\"},\"mode\":\"lines+markers\",\"name\":\"Total RSO Removed\",\"orientation\":\"v\",\"showlegend\":true,\"x\":[2007,2008,2009,2010,2011,2012,2013,2014,2015,2016,2017,2018,2019,2020,2021,2022,2023,2024],\"xaxis\":\"x\",\"y\":[285.0,324.0,85.0,102.0,258.0,249.0,347.0,1105.0,1020.0,1045.0,1696.0,1750.0,1567.0,598.0,521.0,603.0,1623.0,277.0],\"yaxis\":\"y\",\"type\":\"scatter\"},{\"hovertemplate\":\"Category=Total Market Rate Added\\u003cbr\\u003eYear=%{x}\\u003cbr\\u003eNumber of Units=%{y}\\u003cextra\\u003e\\u003c\\u002fextra\\u003e\",\"legendgroup\":\"Total Market Rate Added\",\"line\":{\"color\":\"#ab63fa\",\"dash\":\"solid\"},\"marker\":{\"symbol\":\"circle\"},\"mode\":\"lines+markers\",\"name\":\"Total Market Rate Added\",\"orientation\":\"v\",\"showlegend\":true,\"x\":[2007,2008,2009,2010,2011,2012,2013,2014,2015,2016,2017,2018,2019,2020,2021,2022,2023,2024],\"xaxis\":\"x\",\"y\":[41.0,32.0,398.0,489.0,26.0,333.0,1205.0,722.0,1776.0,2108.0,1251.0,1447.0,2695.0,3764.0,3268.0,3036.0,0.0,147.0],\"yaxis\":\"y\",\"type\":\"scatter\"}],                        {\"template\":{\"data\":{\"histogram2dcontour\":[{\"type\":\"histogram2dcontour\",\"colorbar\":{\"outlinewidth\":0,\"ticks\":\"\"},\"colorscale\":[[0.0,\"#0d0887\"],[0.1111111111111111,\"#46039f\"],[0.2222222222222222,\"#7201a8\"],[0.3333333333333333,\"#9c179e\"],[0.4444444444444444,\"#bd3786\"],[0.5555555555555556,\"#d8576b\"],[0.6666666666666666,\"#ed7953\"],[0.7777777777777778,\"#fb9f3a\"],[0.8888888888888888,\"#fdca26\"],[1.0,\"#f0f921\"]]}],\"choropleth\":[{\"type\":\"choropleth\",\"colorbar\":{\"outlinewidth\":0,\"ticks\":\"\"}}],\"histogram2d\":[{\"type\":\"histogram2d\",\"colorbar\":{\"outlinewidth\":0,\"ticks\":\"\"},\"colorscale\":[[0.0,\"#0d0887\"],[0.1111111111111111,\"#46039f\"],[0.2222222222222222,\"#7201a8\"],[0.3333333333333333,\"#9c179e\"],[0.4444444444444444,\"#bd3786\"],[0.5555555555555556,\"#d8576b\"],[0.6666666666666666,\"#ed7953\"],[0.7777777777777778,\"#fb9f3a\"],[0.8888888888888888,\"#fdca26\"],[1.0,\"#f0f921\"]]}],\"heatmap\":[{\"type\":\"heatmap\",\"colorbar\":{\"outlinewidth\":0,\"ticks\":\"\"},\"colorscale\":[[0.0,\"#0d0887\"],[0.1111111111111111,\"#46039f\"],[0.2222222222222222,\"#7201a8\"],[0.3333333333333333,\"#9c179e\"],[0.4444444444444444,\"#bd3786\"],[0.5555555555555556,\"#d8576b\"],[0.6666666666666666,\"#ed7953\"],[0.7777777777777778,\"#fb9f3a\"],[0.8888888888888888,\"#fdca26\"],[1.0,\"#f0f921\"]]}],\"heatmapgl\":[{\"type\":\"heatmapgl\",\"colorbar\":{\"outlinewidth\":0,\"ticks\":\"\"},\"colorscale\":[[0.0,\"#0d0887\"],[0.1111111111111111,\"#46039f\"],[0.2222222222222222,\"#7201a8\"],[0.3333333333333333,\"#9c179e\"],[0.4444444444444444,\"#bd3786\"],[0.5555555555555556,\"#d8576b\"],[0.6666666666666666,\"#ed7953\"],[0.7777777777777778,\"#fb9f3a\"],[0.8888888888888888,\"#fdca26\"],[1.0,\"#f0f921\"]]}],\"contourcarpet\":[{\"type\":\"contourcarpet\",\"colorbar\":{\"outlinewidth\":0,\"ticks\":\"\"}}],\"contour\":[{\"type\":\"contour\",\"colorbar\":{\"outlinewidth\":0,\"ticks\":\"\"},\"colorscale\":[[0.0,\"#0d0887\"],[0.1111111111111111,\"#46039f\"],[0.2222222222222222,\"#7201a8\"],[0.3333333333333333,\"#9c179e\"],[0.4444444444444444,\"#bd3786\"],[0.5555555555555556,\"#d8576b\"],[0.6666666666666666,\"#ed7953\"],[0.7777777777777778,\"#fb9f3a\"],[0.8888888888888888,\"#fdca26\"],[1.0,\"#f0f921\"]]}],\"surface\":[{\"type\":\"surface\",\"colorbar\":{\"outlinewidth\":0,\"ticks\":\"\"},\"colorscale\":[[0.0,\"#0d0887\"],[0.1111111111111111,\"#46039f\"],[0.2222222222222222,\"#7201a8\"],[0.3333333333333333,\"#9c179e\"],[0.4444444444444444,\"#bd3786\"],[0.5555555555555556,\"#d8576b\"],[0.6666666666666666,\"#ed7953\"],[0.7777777777777778,\"#fb9f3a\"],[0.8888888888888888,\"#fdca26\"],[1.0,\"#f0f921\"]]}],\"mesh3d\":[{\"type\":\"mesh3d\",\"colorbar\":{\"outlinewidth\":0,\"ticks\":\"\"}}],\"scatter\":[{\"fillpattern\":{\"fillmode\":\"overlay\",\"size\":10,\"solidity\":0.2},\"type\":\"scatter\"}],\"parcoords\":[{\"type\":\"parcoords\",\"line\":{\"colorbar\":{\"outlinewidth\":0,\"ticks\":\"\"}}}],\"scatterpolargl\":[{\"type\":\"scatterpolargl\",\"marker\":{\"colorbar\":{\"outlinewidth\":0,\"ticks\":\"\"}}}],\"bar\":[{\"error_x\":{\"color\":\"#2a3f5f\"},\"error_y\":{\"color\":\"#2a3f5f\"},\"marker\":{\"line\":{\"color\":\"#E5ECF6\",\"width\":0.5},\"pattern\":{\"fillmode\":\"overlay\",\"size\":10,\"solidity\":0.2}},\"type\":\"bar\"}],\"scattergeo\":[{\"type\":\"scattergeo\",\"marker\":{\"colorbar\":{\"outlinewidth\":0,\"ticks\":\"\"}}}],\"scatterpolar\":[{\"type\":\"scatterpolar\",\"marker\":{\"colorbar\":{\"outlinewidth\":0,\"ticks\":\"\"}}}],\"histogram\":[{\"marker\":{\"pattern\":{\"fillmode\":\"overlay\",\"size\":10,\"solidity\":0.2}},\"type\":\"histogram\"}],\"scattergl\":[{\"type\":\"scattergl\",\"marker\":{\"colorbar\":{\"outlinewidth\":0,\"ticks\":\"\"}}}],\"scatter3d\":[{\"type\":\"scatter3d\",\"line\":{\"colorbar\":{\"outlinewidth\":0,\"ticks\":\"\"}},\"marker\":{\"colorbar\":{\"outlinewidth\":0,\"ticks\":\"\"}}}],\"scattermapbox\":[{\"type\":\"scattermapbox\",\"marker\":{\"colorbar\":{\"outlinewidth\":0,\"ticks\":\"\"}}}],\"scatterternary\":[{\"type\":\"scatterternary\",\"marker\":{\"colorbar\":{\"outlinewidth\":0,\"ticks\":\"\"}}}],\"scattercarpet\":[{\"type\":\"scattercarpet\",\"marker\":{\"colorbar\":{\"outlinewidth\":0,\"ticks\":\"\"}}}],\"carpet\":[{\"aaxis\":{\"endlinecolor\":\"#2a3f5f\",\"gridcolor\":\"white\",\"linecolor\":\"white\",\"minorgridcolor\":\"white\",\"startlinecolor\":\"#2a3f5f\"},\"baxis\":{\"endlinecolor\":\"#2a3f5f\",\"gridcolor\":\"white\",\"linecolor\":\"white\",\"minorgridcolor\":\"white\",\"startlinecolor\":\"#2a3f5f\"},\"type\":\"carpet\"}],\"table\":[{\"cells\":{\"fill\":{\"color\":\"#EBF0F8\"},\"line\":{\"color\":\"white\"}},\"header\":{\"fill\":{\"color\":\"#C8D4E3\"},\"line\":{\"color\":\"white\"}},\"type\":\"table\"}],\"barpolar\":[{\"marker\":{\"line\":{\"color\":\"#E5ECF6\",\"width\":0.5},\"pattern\":{\"fillmode\":\"overlay\",\"size\":10,\"solidity\":0.2}},\"type\":\"barpolar\"}],\"pie\":[{\"automargin\":true,\"type\":\"pie\"}]},\"layout\":{\"autotypenumbers\":\"strict\",\"colorway\":[\"#636efa\",\"#EF553B\",\"#00cc96\",\"#ab63fa\",\"#FFA15A\",\"#19d3f3\",\"#FF6692\",\"#B6E880\",\"#FF97FF\",\"#FECB52\"],\"font\":{\"color\":\"#2a3f5f\"},\"hovermode\":\"closest\",\"hoverlabel\":{\"align\":\"left\"},\"paper_bgcolor\":\"white\",\"plot_bgcolor\":\"#E5ECF6\",\"polar\":{\"bgcolor\":\"#E5ECF6\",\"angularaxis\":{\"gridcolor\":\"white\",\"linecolor\":\"white\",\"ticks\":\"\"},\"radialaxis\":{\"gridcolor\":\"white\",\"linecolor\":\"white\",\"ticks\":\"\"}},\"ternary\":{\"bgcolor\":\"#E5ECF6\",\"aaxis\":{\"gridcolor\":\"white\",\"linecolor\":\"white\",\"ticks\":\"\"},\"baxis\":{\"gridcolor\":\"white\",\"linecolor\":\"white\",\"ticks\":\"\"},\"caxis\":{\"gridcolor\":\"white\",\"linecolor\":\"white\",\"ticks\":\"\"}},\"coloraxis\":{\"colorbar\":{\"outlinewidth\":0,\"ticks\":\"\"}},\"colorscale\":{\"sequential\":[[0.0,\"#0d0887\"],[0.1111111111111111,\"#46039f\"],[0.2222222222222222,\"#7201a8\"],[0.3333333333333333,\"#9c179e\"],[0.4444444444444444,\"#bd3786\"],[0.5555555555555556,\"#d8576b\"],[0.6666666666666666,\"#ed7953\"],[0.7777777777777778,\"#fb9f3a\"],[0.8888888888888888,\"#fdca26\"],[1.0,\"#f0f921\"]],\"sequentialminus\":[[0.0,\"#0d0887\"],[0.1111111111111111,\"#46039f\"],[0.2222222222222222,\"#7201a8\"],[0.3333333333333333,\"#9c179e\"],[0.4444444444444444,\"#bd3786\"],[0.5555555555555556,\"#d8576b\"],[0.6666666666666666,\"#ed7953\"],[0.7777777777777778,\"#fb9f3a\"],[0.8888888888888888,\"#fdca26\"],[1.0,\"#f0f921\"]],\"diverging\":[[0,\"#8e0152\"],[0.1,\"#c51b7d\"],[0.2,\"#de77ae\"],[0.3,\"#f1b6da\"],[0.4,\"#fde0ef\"],[0.5,\"#f7f7f7\"],[0.6,\"#e6f5d0\"],[0.7,\"#b8e186\"],[0.8,\"#7fbc41\"],[0.9,\"#4d9221\"],[1,\"#276419\"]]},\"xaxis\":{\"gridcolor\":\"white\",\"linecolor\":\"white\",\"ticks\":\"\",\"title\":{\"standoff\":15},\"zerolinecolor\":\"white\",\"automargin\":true,\"zerolinewidth\":2},\"yaxis\":{\"gridcolor\":\"white\",\"linecolor\":\"white\",\"ticks\":\"\",\"title\":{\"standoff\":15},\"zerolinecolor\":\"white\",\"automargin\":true,\"zerolinewidth\":2},\"scene\":{\"xaxis\":{\"backgroundcolor\":\"#E5ECF6\",\"gridcolor\":\"white\",\"linecolor\":\"white\",\"showbackground\":true,\"ticks\":\"\",\"zerolinecolor\":\"white\",\"gridwidth\":2},\"yaxis\":{\"backgroundcolor\":\"#E5ECF6\",\"gridcolor\":\"white\",\"linecolor\":\"white\",\"showbackground\":true,\"ticks\":\"\",\"zerolinecolor\":\"white\",\"gridwidth\":2},\"zaxis\":{\"backgroundcolor\":\"#E5ECF6\",\"gridcolor\":\"white\",\"linecolor\":\"white\",\"showbackground\":true,\"ticks\":\"\",\"zerolinecolor\":\"white\",\"gridwidth\":2}},\"shapedefaults\":{\"line\":{\"color\":\"#2a3f5f\"}},\"annotationdefaults\":{\"arrowcolor\":\"#2a3f5f\",\"arrowhead\":0,\"arrowwidth\":1},\"geo\":{\"bgcolor\":\"white\",\"landcolor\":\"#E5ECF6\",\"subunitcolor\":\"white\",\"showland\":true,\"showlakes\":true,\"lakecolor\":\"white\"},\"title\":{\"x\":0.05},\"mapbox\":{\"style\":\"light\"}}},\"xaxis\":{\"anchor\":\"y\",\"domain\":[0.0,1.0],\"title\":{\"text\":\"Year\"}},\"yaxis\":{\"anchor\":\"x\",\"domain\":[0.0,1.0],\"title\":{\"text\":\"Number of Units\"}},\"legend\":{\"title\":{\"text\":\"Category\"},\"tracegroupgap\":0},\"title\":{\"text\":\"Change in RSO Removed, Affordable, Market Rate, and Total Units Over Time\"}},                        {\"responsive\": true}                    ).then(function(){\n",
       "                            \n",
       "var gd = document.getElementById('6017a06a-a9a2-4a13-962f-05edb42c9672');\n",
       "var x = new MutationObserver(function (mutations, observer) {{\n",
       "        var display = window.getComputedStyle(gd).display;\n",
       "        if (!display || display === 'none') {{\n",
       "            console.log([gd, 'removed!']);\n",
       "            Plotly.purge(gd);\n",
       "            observer.disconnect();\n",
       "        }}\n",
       "}});\n",
       "\n",
       "// Listen for the removal of the full notebook cells\n",
       "var notebookContainer = gd.closest('#notebook-container');\n",
       "if (notebookContainer) {{\n",
       "    x.observe(notebookContainer, {childList: true});\n",
       "}}\n",
       "\n",
       "// Listen for the clearing of the current output cell\n",
       "var outputEl = gd.closest('.output');\n",
       "if (outputEl) {{\n",
       "    x.observe(outputEl, {childList: true});\n",
       "}}\n",
       "\n",
       "                        })                };                });            </script>        </div>"
      ]
     },
     "metadata": {},
     "output_type": "display_data"
    }
   ],
   "source": [
    "import pandas as pd\n",
    "import plotly.express as px\n",
    "\n",
    "# Reload the datasets\n",
    "nearby_land_use_covenants = pd.read_csv(\"nearby_land_use_covenants.csv\")\n",
    "updated_rso_data = pd.read_csv(\"updated_rso_data.csv\")\n",
    "\n",
    "# Check if the necessary columns exist\n",
    "if \"Year of Covenant\" in nearby_land_use_covenants.columns and \"Application Year\" in updated_rso_data.columns:\n",
    "    # Aggregate total counts by year for land use covenants\n",
    "    land_use_trend = nearby_land_use_covenants.groupby(\"Year of Covenant\")[\n",
    "        [\"Affordable Units\", \"Total Units\"]\n",
    "    ].sum().reset_index()\n",
    "    land_use_trend.rename(columns={\"Year of Covenant\": \"Year\"}, inplace=True)\n",
    "\n",
    "    # Aggregate total RSO removals by application year\n",
    "    rso_trend = updated_rso_data.groupby(\"Application Year\")[\"Units Withdrawn\"].sum().reset_index()\n",
    "    rso_trend.rename(columns={\"Application Year\": \"Year\", \"Units Withdrawn\": \"Total RSO Removed\"}, inplace=True)\n",
    "\n",
    "    # Merge the two datasets on Year\n",
    "    trend_data = pd.merge(land_use_trend, rso_trend, on=\"Year\", how=\"outer\").fillna(0)\n",
    "    trend_data[\"Total Market Rate Added\"] = trend_data[\"Total Units\"] - trend_data[\"Affordable Units\"]\n",
    "\n",
    "    # Melt the data for better visualization\n",
    "    trend_data_melted = trend_data.melt(id_vars=[\"Year\"], \n",
    "                                        var_name=\"Category\", \n",
    "                                        value_name=\"Count\")\n",
    "\n",
    "    # Create a line chart to show changes over time\n",
    "    fig = px.line(trend_data_melted, x=\"Year\", y=\"Count\", \n",
    "                  color=\"Category\", markers=True,\n",
    "                  title=\"Change in RSO Removed, Affordable, Market Rate, and Total Units Over Time\",\n",
    "                  labels={\"Year\": \"Year\", \"Count\": \"Number of Units\"})\n",
    "\n",
    "     # Save the figure\n",
    "    fig.write_html(\"time_change_analysis.html\")\n",
    "    # Show the plot\n",
    "    fig.show()"
   ]
  },
  {
   "cell_type": "code",
   "execution_count": null,
   "id": "ca214ce2-19f0-42ba-bfed-2950ad9c5488",
   "metadata": {},
   "outputs": [],
   "source": []
  }
 ],
 "metadata": {
  "kernelspec": {
   "display_name": "Python 3 (ipykernel)",
   "language": "python",
   "name": "python3"
  },
  "language_info": {
   "codemirror_mode": {
    "name": "ipython",
    "version": 3
   },
   "file_extension": ".py",
   "mimetype": "text/x-python",
   "name": "python",
   "nbconvert_exporter": "python",
   "pygments_lexer": "ipython3",
   "version": "3.11.9"
  }
 },
 "nbformat": 4,
 "nbformat_minor": 5
}
