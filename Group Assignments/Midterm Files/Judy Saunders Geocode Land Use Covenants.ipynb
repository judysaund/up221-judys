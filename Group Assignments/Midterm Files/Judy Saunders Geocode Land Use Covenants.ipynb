{
 "cells": [
  {
   "cell_type": "markdown",
   "id": "561c1ba2-f34b-4cc4-9904-d21468d8aa39",
   "metadata": {},
   "source": [
    "## Geocode Land Use Covenants\n",
    "Create a new file with lat/long for land use covenants"
   ]
  },
  {
   "cell_type": "code",
   "execution_count": 1,
   "id": "245a8401-d6d9-4d58-87b9-ef9144648606",
   "metadata": {},
   "outputs": [],
   "source": [
    "import requests\n",
    "import pandas as pd\n",
    "import time"
   ]
  },
  {
   "cell_type": "markdown",
   "id": "2f70277e-f0ab-4e44-9fdc-2799c4b69437",
   "metadata": {},
   "source": [
    "## Geocode Data\n",
    "Run code to get lat/long for datasets."
   ]
  },
  {
   "cell_type": "code",
   "execution_count": 3,
   "id": "2d6afb22-9cc4-4911-b51c-4a7478ec5163",
   "metadata": {},
   "outputs": [],
   "source": [
    "# Load the datasets\n",
    "land_use_covenants = pd.read_csv('Land Use Covenants 2006-2022 (Controller and ED1).csv')"
   ]
  },
  {
   "cell_type": "code",
   "execution_count": 5,
   "id": "306892d9-9e59-46e8-962c-d444e55c0b0f",
   "metadata": {},
   "outputs": [],
   "source": [
    "# Function to apply geocoding to land_use_covenants DataFrame\n",
    "def apply_google_geocoding(df, address_column):\n",
    "    df[[\"LAT\", \"LONG\"]] = df[address_column].apply(google_geocode_address)\n",
    "    return df\n"
   ]
  },
  {
   "cell_type": "code",
   "execution_count": 6,
   "id": "266600af-d4f6-4ac2-9840-9305d93a9883",
   "metadata": {},
   "outputs": [
    {
     "name": "stdout",
     "output_type": "stream",
     "text": [
      "Before Geocoding:\n",
      "                                             Address  Zip Code  CD#  \\\n",
      "0           4660 N KESTER AVE Sherman Oaks, CA 91403   91403.0    4   \n",
      "1  6938 N Laurel Canyon BLVD North Hollywood, CA ...   91605.0    2   \n",
      "2      4520 S FIGUEROA ST 1-21 Los Angeles, CA 90037   90037.0    9   \n",
      "3             7601 N HOLLYWOOD WAY BURBANK, CA 91505   91505.0    2   \n",
      "4        1421 W TEMPLE ST 1-52 Los Angeles, CA 90026   90026.0    1   \n",
      "\n",
      "   Year of Covenant  Affordable Units  Total Units % of Affordable  \\\n",
      "0              2007               NaN          NaN             NaN   \n",
      "1              2007               NaN          NaN             NaN   \n",
      "2              2007               NaN         21.0             NaN   \n",
      "3              2007               NaN         20.0             NaN   \n",
      "4              2007               NaN         52.0             NaN   \n",
      "\n",
      "  Entitlements Type2 AH Studio Unit # AH 1BR Unit # AH 2BR Unit #  \\\n",
      "0          NaN   NaN              NaN           NaN           NaN   \n",
      "1          NaN   NaN              NaN           NaN           NaN   \n",
      "2          NaN   NaN              NaN           NaN           NaN   \n",
      "3          NaN   NaN              NaN           NaN           NaN   \n",
      "4          NaN   NaN              NaN           NaN           NaN   \n",
      "\n",
      "  AH 3BR Unit # AH 4BR Unit # AH 5BR Unit# AH 6BR Unit#  LAT  LONG  \n",
      "0           NaN           NaN          NaN          NaN  NaN   NaN  \n",
      "1           NaN           NaN          NaN          NaN  NaN   NaN  \n",
      "2           NaN           NaN          NaN          NaN  NaN   NaN  \n",
      "3           NaN           NaN          NaN          NaN  NaN   NaN  \n",
      "4           NaN           NaN          NaN          NaN  NaN   NaN  \n"
     ]
    }
   ],
   "source": [
    "# Ensure the DataFrame exists before geocoding\n",
    "print(\"Before Geocoding:\")\n",
    "print(land_use_covenants.head())  # Check the first few rows"
   ]
  },
  {
   "cell_type": "code",
   "execution_count": 8,
   "id": "493728f2-7114-40c7-ab3b-284d0013e295",
   "metadata": {},
   "outputs": [
    {
     "name": "stdout",
     "output_type": "stream",
     "text": [
      "                                             Address  \\\n",
      "0           4660 N KESTER AVE Sherman Oaks, CA 91403   \n",
      "1  6938 N Laurel Canyon BLVD North Hollywood, CA ...   \n",
      "2      4520 S FIGUEROA ST 1-21 Los Angeles, CA 90037   \n",
      "3             7601 N HOLLYWOOD WAY BURBANK, CA 91505   \n",
      "4        1421 W TEMPLE ST 1-52 Los Angeles, CA 90026   \n",
      "5          1117 S WESTLAKE AVE Los Angeles, CA 90006   \n",
      "6        225 N AVENUE 25 1-146 Los Angeles, CA 90031   \n",
      "7            7551 N JORDAN AVE Canoga Park, CA 91303   \n",
      "8           7511 S MAIN ST 1-9 LOS ANGELES, CA 90003   \n",
      "9      3325 S CANFIELD AVE 1-3 Los Angeles, CA 90034   \n",
      "\n",
      "                                 Cleaned_Address  \n",
      "0             4660 N KESTER AVE Sherman Oaks, CA  \n",
      "1  6938 N Laurel Canyon BLVD North Hollywood, CA  \n",
      "2             4520 S FIGUEROA ST Los Angeles, CA  \n",
      "3               7601 N HOLLYWOOD WAY BURBANK, CA  \n",
      "4               1421 W TEMPLE ST Los Angeles, CA  \n",
      "5            1117 S WESTLAKE AVE Los Angeles, CA  \n",
      "6                   225 N AVENUE Los Angeles, CA  \n",
      "7              7551 N JORDAN AVE Canoga Park, CA  \n",
      "8                 7511 S MAIN ST LOS ANGELES, CA  \n",
      "9            3325 S CANFIELD AVE Los Angeles, CA  \n"
     ]
    }
   ],
   "source": [
    "# clean address data\n",
    "import re\n",
    "\n",
    "def clean_address(address):\n",
    "    \"\"\"Removes unit numbers, ranges, and unnecessary text after the street name.\"\"\"\n",
    "    address = re.sub(r\"\\s\\d+(-\\d+)?\\b\", \"\", address)  # Removes numbers like \"1-5\"\n",
    "    return address.strip()\n",
    "\n",
    "# Apply the cleaning function before geocoding\n",
    "land_use_covenants[\"Cleaned_Address\"] = land_use_covenants[\"Address\"].apply(clean_address)\n",
    "\n",
    "# Check if the cleaning worked\n",
    "print(land_use_covenants[[\"Address\", \"Cleaned_Address\"]].head(10))"
   ]
  },
  {
   "cell_type": "code",
   "execution_count": 9,
   "id": "57e90a77-5205-49a8-9b79-d072dcd93c4e",
   "metadata": {},
   "outputs": [
    {
     "name": "stdout",
     "output_type": "stream",
     "text": [
      "Geocoding failed for 316 S CATALINA ST, Los Angeles, CA: UNKNOWN_ERROR\n"
     ]
    }
   ],
   "source": [
    "def google_geocode_address(address):\n",
    "    if pd.isna(address) or address.strip() == \"\":\n",
    "        return pd.Series([None, None])\n",
    "\n",
    "    # Append city and state if missing\n",
    "    if \"Los Angeles\" not in address:\n",
    "        address += \", Los Angeles, CA\"\n",
    "\n",
    "    base_url = \"https://maps.googleapis.com/maps/api/geocode/json\"\n",
    "    params = {\n",
    "        \"address\": address,\n",
    "        \"key\": API_KEY\n",
    "    }\n",
    "    try:\n",
    "        response = requests.get(base_url, params=params)\n",
    "        data = response.json()\n",
    "        if data[\"status\"] == \"OK\":\n",
    "            location = data[\"results\"][0][\"geometry\"][\"location\"]\n",
    "            return pd.Series([location[\"lat\"], location[\"lng\"]])\n",
    "        else:\n",
    "            print(f\"Geocoding failed for {address}: {data['status']}\")\n",
    "            return pd.Series([None, None])\n",
    "    except Exception as e:\n",
    "        print(f\"Error geocoding {address}: {e}\")\n",
    "        return pd.Series([None, None])\n",
    "\n",
    "# Apply geocoding to cleaned addresses\n",
    "land_use_covenants = apply_google_geocoding(land_use_covenants, \"Cleaned_Address\")\n"
   ]
  },
  {
   "cell_type": "code",
   "execution_count": 10,
   "id": "a2de6799-c9ad-4633-bbef-00ce11cceca2",
   "metadata": {},
   "outputs": [],
   "source": [
    "# Save geocoded datasets\n",
    "land_use_covenants.to_csv('geocoded_land_use_covenants.csv', index=False)"
   ]
  },
  {
   "cell_type": "code",
   "execution_count": null,
   "id": "9a4a672b-787e-41c6-8d25-f63c9c46f7eb",
   "metadata": {},
   "outputs": [],
   "source": [
    "# Load geocoded data\n",
    "land_use_covenants = pd.read_csv('geocoded_land_use_covenants.csv')\n",
    "updated_rso_data = pd.read_csv('geocoded_updated_rso_data.csv')"
   ]
  },
  {
   "cell_type": "code",
   "execution_count": null,
   "id": "2abfc94f-0129-4cfc-ace5-d1906913347a",
   "metadata": {},
   "outputs": [],
   "source": [
    "# Drop rows where Latitude or Longitude is missing\n",
    "land_use_covenants = land_use_covenants.dropna(subset=['Latitude', 'Longitude'])\n",
    "\n",
    "print(f\"Remaining Land Use Covenant records: {len(land_use_covenants)}\")"
   ]
  },
  {
   "cell_type": "code",
   "execution_count": null,
   "id": "8c21411a-a314-419d-a995-3191ed4a0c52",
   "metadata": {},
   "outputs": [],
   "source": [
    "# Display the first few rows of land use covenants\n",
    "land_use_covenants.head()"
   ]
  }
 ],
 "metadata": {
  "kernelspec": {
   "display_name": "Python 3 (ipykernel)",
   "language": "python",
   "name": "python3"
  },
  "language_info": {
   "codemirror_mode": {
    "name": "ipython",
    "version": 3
   },
   "file_extension": ".py",
   "mimetype": "text/x-python",
   "name": "python",
   "nbconvert_exporter": "python",
   "pygments_lexer": "ipython3",
   "version": "3.11.9"
  }
 },
 "nbformat": 4,
 "nbformat_minor": 5
}
