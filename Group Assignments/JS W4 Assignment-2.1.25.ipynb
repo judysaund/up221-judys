{
 "cells": [
  {
   "cell_type": "markdown",
   "id": "59d6c749-304e-462a-82c4-1322db5560c3",
   "metadata": {},
   "source": [
    "# Week 4: Mapping Demolitions and Affordability in Los Angeles\n",
    "This notebook explores the spatial distribution of RSO demolitions in Los Angeles and their relationship to rent changes and affordability."
   ]
  },
  {
   "cell_type": "code",
   "execution_count": 1,
   "id": "3340c040-bc75-413c-801b-bb97153b6b47",
   "metadata": {},
   "outputs": [],
   "source": [
    "# Import necessary libraries\n",
    "import requests\n",
    "import pandas as pd\n",
    "import geopandas as gpd\n",
    "import matplotlib.pyplot as plt\n",
    "from shapely.geometry import Point\n"
   ]
  },
  {
   "cell_type": "markdown",
   "id": "58a4d875-5c66-4aad-8779-92ca59f468ed",
   "metadata": {},
   "source": [
    "## Load and Process Demolition Permit Data\n",
    "\n",
    "This step adds code to fetch data from the LA Demolition Permit API, cleans lat/long data, and geocodes them."
   ]
  },
  {
   "cell_type": "code",
   "execution_count": 2,
   "id": "9b8d43f7-07e2-4313-a95a-9ae5ab3beb9f",
   "metadata": {},
   "outputs": [
    {
     "name": "stdout",
     "output_type": "stream",
     "text": [
      "Columns in demolition dataset: Index(['assessor_book', 'assessor_page', 'assessor_parcel', 'tract', 'lot',\n",
      "       'reference_old_permit', 'pcis_permit', 'latest_status', 'status_date',\n",
      "       'permit_type', 'permit_sub_type', 'permit_category',\n",
      "       'initiating_office', 'issue_date', 'address_start', 'address_end',\n",
      "       'street_direction', 'street_name', 'street_suffix', 'zip_code',\n",
      "       'work_description', 'valuation', 'contractors_business_name',\n",
      "       'contractor_address', 'contractor_city', 'contractor_state',\n",
      "       'license_type', 'license', 'principal_first_name',\n",
      "       'principal_middle_name', 'principal_last_name',\n",
      "       'license_expiration_date', 'applicant_first_name',\n",
      "       'applicant_last_name', 'zone',\n",
      "       'floor_area_l_a_building_code_definition', 'census_tract', 'location_1',\n",
      "       'floor_area_l_a_zoning_code_definition',\n",
      "       'of_residential_dwelling_units', 'block', 'of_stories',\n",
      "       'applicant_business_name', 'applicant_address_1', 'applicant_address_2',\n",
      "       'applicant_address_3', 'address_fraction_end', 'occupancy',\n",
      "       'address_fraction_start', 'unit_range_start', 'unit_range_end'],\n",
      "      dtype='object')\n"
     ]
    }
   ],
   "source": [
    "# API URL for demolition permits\n",
    "url = \"https://data.lacity.org/resource/fsgi-y87k.json\"\n",
    "\n",
    "# Fetch data from API\n",
    "response = requests.get(url)\n",
    "demo_data = pd.DataFrame(response.json())\n",
    "\n",
    "# Print all column names to understand available data\n",
    "print(\"Columns in demolition dataset:\", demo_data.columns)"
   ]
  },
  {
   "cell_type": "markdown",
   "id": "552d4950-31d3-496d-8873-60718be063f8",
   "metadata": {},
   "source": [
    "## Clean the Latitude and Longitude Data\n",
    "\n",
    "The demolitions permits need latitude and longitude conversion into separate columns."
   ]
  },
  {
   "cell_type": "code",
   "execution_count": 3,
   "id": "0ff758fd-1077-4c91-bcf5-b29ef8b8be06",
   "metadata": {},
   "outputs": [
    {
     "data": {
      "text/html": [
       "<div>\n",
       "<style scoped>\n",
       "    .dataframe tbody tr th:only-of-type {\n",
       "        vertical-align: middle;\n",
       "    }\n",
       "\n",
       "    .dataframe tbody tr th {\n",
       "        vertical-align: top;\n",
       "    }\n",
       "\n",
       "    .dataframe thead th {\n",
       "        text-align: right;\n",
       "    }\n",
       "</style>\n",
       "<table border=\"1\" class=\"dataframe\">\n",
       "  <thead>\n",
       "    <tr style=\"text-align: right;\">\n",
       "      <th></th>\n",
       "      <th>longitude</th>\n",
       "      <th>latitude</th>\n",
       "    </tr>\n",
       "  </thead>\n",
       "  <tbody>\n",
       "    <tr>\n",
       "      <th>0</th>\n",
       "      <td>-118.41259</td>\n",
       "      <td>34.02224</td>\n",
       "    </tr>\n",
       "    <tr>\n",
       "      <th>1</th>\n",
       "      <td>-118.49970</td>\n",
       "      <td>34.06234</td>\n",
       "    </tr>\n",
       "    <tr>\n",
       "      <th>2</th>\n",
       "      <td>-118.40424</td>\n",
       "      <td>33.99961</td>\n",
       "    </tr>\n",
       "    <tr>\n",
       "      <th>3</th>\n",
       "      <td>-118.50359</td>\n",
       "      <td>34.16005</td>\n",
       "    </tr>\n",
       "    <tr>\n",
       "      <th>4</th>\n",
       "      <td>-118.42087</td>\n",
       "      <td>34.14943</td>\n",
       "    </tr>\n",
       "  </tbody>\n",
       "</table>\n",
       "</div>"
      ],
      "text/plain": [
       "   longitude  latitude\n",
       "0 -118.41259  34.02224\n",
       "1 -118.49970  34.06234\n",
       "2 -118.40424  33.99961\n",
       "3 -118.50359  34.16005\n",
       "4 -118.42087  34.14943"
      ]
     },
     "execution_count": 3,
     "metadata": {},
     "output_type": "execute_result"
    }
   ],
   "source": [
    "# Extract coordinates safely\n",
    "def extract_coordinates(location):\n",
    "    if isinstance(location, dict) and \"coordinates\" in location:\n",
    "        try:\n",
    "            return location[\"coordinates\"][0], location[\"coordinates\"][1]\n",
    "        except (IndexError, TypeError):\n",
    "            return None, None\n",
    "    return None, None\n",
    "\n",
    "demo_data[[\"longitude\", \"latitude\"]] = demo_data[\"location_1\"].apply(\n",
    "    lambda x: pd.Series(extract_coordinates(x))\n",
    ")\n",
    "\n",
    "# Check results\n",
    "demo_data[[\"longitude\", \"latitude\"]].head()\n"
   ]
  },
  {
   "cell_type": "code",
   "execution_count": 4,
   "id": "170d07b4-f567-4f9d-8b93-54100dface5e",
   "metadata": {},
   "outputs": [],
   "source": [
    "# Create geometry column from extracted coordinates\n",
    "demo_data[\"geometry\"] = demo_data.apply(lambda row: Point(row[\"longitude\"], row[\"latitude\"]) if pd.notnull(row[\"longitude\"]) else None, axis=1)\n",
    "\n",
    "# Convert to GeoDataFrame\n",
    "demo_gdf = gpd.GeoDataFrame(demo_data, geometry=\"geometry\", crs=\"EPSG:4326\")  # Set WGS84 CRS"
   ]
  },
  {
   "cell_type": "code",
   "execution_count": 5,
   "id": "cb922bc0-e439-4595-9f1f-be04df4f0a86",
   "metadata": {},
   "outputs": [
    {
     "data": {
      "text/html": [
       "<div>\n",
       "<style scoped>\n",
       "    .dataframe tbody tr th:only-of-type {\n",
       "        vertical-align: middle;\n",
       "    }\n",
       "\n",
       "    .dataframe tbody tr th {\n",
       "        vertical-align: top;\n",
       "    }\n",
       "\n",
       "    .dataframe thead th {\n",
       "        text-align: right;\n",
       "    }\n",
       "</style>\n",
       "<table border=\"1\" class=\"dataframe\">\n",
       "  <thead>\n",
       "    <tr style=\"text-align: right;\">\n",
       "      <th></th>\n",
       "      <th>assessor_book</th>\n",
       "      <th>assessor_page</th>\n",
       "      <th>assessor_parcel</th>\n",
       "      <th>tract</th>\n",
       "      <th>lot</th>\n",
       "      <th>reference_old_permit</th>\n",
       "      <th>pcis_permit</th>\n",
       "      <th>latest_status</th>\n",
       "      <th>status_date</th>\n",
       "      <th>permit_type</th>\n",
       "      <th>...</th>\n",
       "      <th>applicant_address_2</th>\n",
       "      <th>applicant_address_3</th>\n",
       "      <th>address_fraction_end</th>\n",
       "      <th>occupancy</th>\n",
       "      <th>address_fraction_start</th>\n",
       "      <th>unit_range_start</th>\n",
       "      <th>unit_range_end</th>\n",
       "      <th>longitude</th>\n",
       "      <th>latitude</th>\n",
       "      <th>geometry</th>\n",
       "    </tr>\n",
       "  </thead>\n",
       "  <tbody>\n",
       "    <tr>\n",
       "      <th>0</th>\n",
       "      <td>4252</td>\n",
       "      <td>035</td>\n",
       "      <td>017</td>\n",
       "      <td>TR 7265</td>\n",
       "      <td>56</td>\n",
       "      <td>23LA03288</td>\n",
       "      <td>22019-30000-00362</td>\n",
       "      <td>Issued</td>\n",
       "      <td>2023-05-18T00:00:00.000</td>\n",
       "      <td>Bldg-Demolition</td>\n",
       "      <td>...</td>\n",
       "      <td>NaN</td>\n",
       "      <td>NaN</td>\n",
       "      <td>NaN</td>\n",
       "      <td>NaN</td>\n",
       "      <td>NaN</td>\n",
       "      <td>NaN</td>\n",
       "      <td>NaN</td>\n",
       "      <td>-118.41259</td>\n",
       "      <td>34.02224</td>\n",
       "      <td>POINT (-118.41259 34.02224)</td>\n",
       "    </tr>\n",
       "    <tr>\n",
       "      <th>1</th>\n",
       "      <td>4425</td>\n",
       "      <td>022</td>\n",
       "      <td>004</td>\n",
       "      <td>TR 14038</td>\n",
       "      <td>4</td>\n",
       "      <td>23WL01286</td>\n",
       "      <td>23019-30000-01656</td>\n",
       "      <td>Issued</td>\n",
       "      <td>2023-05-18T00:00:00.000</td>\n",
       "      <td>Bldg-Demolition</td>\n",
       "      <td>...</td>\n",
       "      <td>NaN</td>\n",
       "      <td>NaN</td>\n",
       "      <td>NaN</td>\n",
       "      <td>NaN</td>\n",
       "      <td>NaN</td>\n",
       "      <td>NaN</td>\n",
       "      <td>NaN</td>\n",
       "      <td>-118.49970</td>\n",
       "      <td>34.06234</td>\n",
       "      <td>POINT (-118.4997 34.06234)</td>\n",
       "    </tr>\n",
       "    <tr>\n",
       "      <th>2</th>\n",
       "      <td>4215</td>\n",
       "      <td>031</td>\n",
       "      <td>002</td>\n",
       "      <td>TR 1441</td>\n",
       "      <td>14</td>\n",
       "      <td>23WL01271</td>\n",
       "      <td>23019-30000-00410</td>\n",
       "      <td>Issued</td>\n",
       "      <td>2023-05-17T00:00:00.000</td>\n",
       "      <td>Bldg-Demolition</td>\n",
       "      <td>...</td>\n",
       "      <td>NaN</td>\n",
       "      <td>NaN</td>\n",
       "      <td>NaN</td>\n",
       "      <td>NaN</td>\n",
       "      <td>NaN</td>\n",
       "      <td>NaN</td>\n",
       "      <td>NaN</td>\n",
       "      <td>-118.40424</td>\n",
       "      <td>33.99961</td>\n",
       "      <td>POINT (-118.40424 33.99961)</td>\n",
       "    </tr>\n",
       "    <tr>\n",
       "      <th>3</th>\n",
       "      <td>2258</td>\n",
       "      <td>013</td>\n",
       "      <td>002</td>\n",
       "      <td>ENCINO TRACT</td>\n",
       "      <td>5</td>\n",
       "      <td>23ON 0807</td>\n",
       "      <td>23019-30000-01137</td>\n",
       "      <td>Issued</td>\n",
       "      <td>2023-05-12T00:00:00.000</td>\n",
       "      <td>Bldg-Demolition</td>\n",
       "      <td>...</td>\n",
       "      <td>NaN</td>\n",
       "      <td>NaN</td>\n",
       "      <td>NaN</td>\n",
       "      <td>NaN</td>\n",
       "      <td>NaN</td>\n",
       "      <td>NaN</td>\n",
       "      <td>NaN</td>\n",
       "      <td>-118.50359</td>\n",
       "      <td>34.16005</td>\n",
       "      <td>POINT (-118.50359 34.16005)</td>\n",
       "    </tr>\n",
       "    <tr>\n",
       "      <th>4</th>\n",
       "      <td>2375</td>\n",
       "      <td>001</td>\n",
       "      <td>075</td>\n",
       "      <td>TR 7730</td>\n",
       "      <td>57</td>\n",
       "      <td>23VN03655</td>\n",
       "      <td>23019-30000-01594</td>\n",
       "      <td>Issued</td>\n",
       "      <td>2023-05-12T00:00:00.000</td>\n",
       "      <td>Bldg-Demolition</td>\n",
       "      <td>...</td>\n",
       "      <td>NaN</td>\n",
       "      <td>NaN</td>\n",
       "      <td>NaN</td>\n",
       "      <td>NaN</td>\n",
       "      <td>NaN</td>\n",
       "      <td>NaN</td>\n",
       "      <td>NaN</td>\n",
       "      <td>-118.42087</td>\n",
       "      <td>34.14943</td>\n",
       "      <td>POINT (-118.42087 34.14943)</td>\n",
       "    </tr>\n",
       "  </tbody>\n",
       "</table>\n",
       "<p>5 rows × 54 columns</p>\n",
       "</div>"
      ],
      "text/plain": [
       "  assessor_book assessor_page assessor_parcel         tract lot  \\\n",
       "0          4252           035             017       TR 7265  56   \n",
       "1          4425           022             004      TR 14038   4   \n",
       "2          4215           031             002       TR 1441  14   \n",
       "3          2258           013             002  ENCINO TRACT   5   \n",
       "4          2375           001             075       TR 7730  57   \n",
       "\n",
       "  reference_old_permit        pcis_permit latest_status  \\\n",
       "0            23LA03288  22019-30000-00362        Issued   \n",
       "1            23WL01286  23019-30000-01656        Issued   \n",
       "2            23WL01271  23019-30000-00410        Issued   \n",
       "3            23ON 0807  23019-30000-01137        Issued   \n",
       "4            23VN03655  23019-30000-01594        Issued   \n",
       "\n",
       "               status_date      permit_type  ... applicant_address_2  \\\n",
       "0  2023-05-18T00:00:00.000  Bldg-Demolition  ...                 NaN   \n",
       "1  2023-05-18T00:00:00.000  Bldg-Demolition  ...                 NaN   \n",
       "2  2023-05-17T00:00:00.000  Bldg-Demolition  ...                 NaN   \n",
       "3  2023-05-12T00:00:00.000  Bldg-Demolition  ...                 NaN   \n",
       "4  2023-05-12T00:00:00.000  Bldg-Demolition  ...                 NaN   \n",
       "\n",
       "  applicant_address_3 address_fraction_end occupancy address_fraction_start  \\\n",
       "0                 NaN                  NaN       NaN                    NaN   \n",
       "1                 NaN                  NaN       NaN                    NaN   \n",
       "2                 NaN                  NaN       NaN                    NaN   \n",
       "3                 NaN                  NaN       NaN                    NaN   \n",
       "4                 NaN                  NaN       NaN                    NaN   \n",
       "\n",
       "  unit_range_start unit_range_end  longitude  latitude  \\\n",
       "0              NaN            NaN -118.41259  34.02224   \n",
       "1              NaN            NaN -118.49970  34.06234   \n",
       "2              NaN            NaN -118.40424  33.99961   \n",
       "3              NaN            NaN -118.50359  34.16005   \n",
       "4              NaN            NaN -118.42087  34.14943   \n",
       "\n",
       "                      geometry  \n",
       "0  POINT (-118.41259 34.02224)  \n",
       "1   POINT (-118.4997 34.06234)  \n",
       "2  POINT (-118.40424 33.99961)  \n",
       "3  POINT (-118.50359 34.16005)  \n",
       "4  POINT (-118.42087 34.14943)  \n",
       "\n",
       "[5 rows x 54 columns]"
      ]
     },
     "execution_count": 5,
     "metadata": {},
     "output_type": "execute_result"
    }
   ],
   "source": [
    "# Display the first few rows\n",
    "demo_gdf.head()"
   ]
  },
  {
   "cell_type": "markdown",
   "id": "663e1eb4-b733-431f-b80f-970ec50c5e0f",
   "metadata": {},
   "source": [
    "## Load Ellis Act Application Data\n",
    "Load Ellis Act Application data to see RSOs that have been taken off the market, and merge with demolition data to see how many of them have been taken off the market to demolish."
   ]
  },
  {
   "cell_type": "code",
   "execution_count": 6,
   "id": "be5ce394-8968-4ce1-a38c-d944e34440c5",
   "metadata": {},
   "outputs": [
    {
     "data": {
      "text/html": [
       "<div>\n",
       "<style scoped>\n",
       "    .dataframe tbody tr th:only-of-type {\n",
       "        vertical-align: middle;\n",
       "    }\n",
       "\n",
       "    .dataframe tbody tr th {\n",
       "        vertical-align: top;\n",
       "    }\n",
       "\n",
       "    .dataframe thead th {\n",
       "        text-align: right;\n",
       "    }\n",
       "</style>\n",
       "<table border=\"1\" class=\"dataframe\">\n",
       "  <thead>\n",
       "    <tr style=\"text-align: right;\">\n",
       "      <th></th>\n",
       "      <th>APN</th>\n",
       "      <th>Application Received</th>\n",
       "      <th>Application Year</th>\n",
       "      <th>Council District</th>\n",
       "      <th>Address</th>\n",
       "      <th>City</th>\n",
       "      <th>Zip</th>\n",
       "      <th>Units Withdrawn</th>\n",
       "      <th>Replacement Unit</th>\n",
       "      <th>Latitude</th>\n",
       "      <th>Longitude</th>\n",
       "    </tr>\n",
       "  </thead>\n",
       "  <tbody>\n",
       "    <tr>\n",
       "      <th>0</th>\n",
       "      <td>2040031029</td>\n",
       "      <td>11/6/2019</td>\n",
       "      <td>2019</td>\n",
       "      <td>3</td>\n",
       "      <td>22729 W DEL VALLE ST</td>\n",
       "      <td>LOS ANGELES</td>\n",
       "      <td>91364.0</td>\n",
       "      <td>3.0</td>\n",
       "      <td>NaN</td>\n",
       "      <td>34.165795</td>\n",
       "      <td>-118.621248</td>\n",
       "    </tr>\n",
       "    <tr>\n",
       "      <th>1</th>\n",
       "      <td>2040031030</td>\n",
       "      <td>12/4/2019</td>\n",
       "      <td>2019</td>\n",
       "      <td>3</td>\n",
       "      <td>22727 W DEL VALLE ST</td>\n",
       "      <td>WOODLAND HILLS</td>\n",
       "      <td>91364.0</td>\n",
       "      <td>3.0</td>\n",
       "      <td>NaN</td>\n",
       "      <td>34.165958</td>\n",
       "      <td>-118.621237</td>\n",
       "    </tr>\n",
       "    <tr>\n",
       "      <th>2</th>\n",
       "      <td>2040031050</td>\n",
       "      <td>2/25/2016</td>\n",
       "      <td>2016</td>\n",
       "      <td>3</td>\n",
       "      <td>22769 W DEL VALLE ST</td>\n",
       "      <td>LOS ANGELES</td>\n",
       "      <td>91364.0</td>\n",
       "      <td>2.0</td>\n",
       "      <td>22.0</td>\n",
       "      <td>34.165508</td>\n",
       "      <td>-118.622696</td>\n",
       "    </tr>\n",
       "    <tr>\n",
       "      <th>3</th>\n",
       "      <td>2040033033</td>\n",
       "      <td>2/10/2016</td>\n",
       "      <td>2016</td>\n",
       "      <td>3</td>\n",
       "      <td>22431 W DEL VALLE ST</td>\n",
       "      <td>WOODLAND HILLS</td>\n",
       "      <td>91364.0</td>\n",
       "      <td>3.0</td>\n",
       "      <td>NaN</td>\n",
       "      <td>34.167418</td>\n",
       "      <td>-118.616607</td>\n",
       "    </tr>\n",
       "    <tr>\n",
       "      <th>4</th>\n",
       "      <td>2107011026</td>\n",
       "      <td>6/29/2023</td>\n",
       "      <td>2023</td>\n",
       "      <td>3</td>\n",
       "      <td>20137 W ARMINTA ST</td>\n",
       "      <td>LOS ANGELES</td>\n",
       "      <td>91306.0</td>\n",
       "      <td>2.0</td>\n",
       "      <td>NaN</td>\n",
       "      <td>34.213476</td>\n",
       "      <td>-118.422740</td>\n",
       "    </tr>\n",
       "  </tbody>\n",
       "</table>\n",
       "</div>"
      ],
      "text/plain": [
       "          APN Application Received  Application Year  Council District  \\\n",
       "0  2040031029            11/6/2019              2019                 3   \n",
       "1  2040031030            12/4/2019              2019                 3   \n",
       "2  2040031050            2/25/2016              2016                 3   \n",
       "3  2040033033            2/10/2016              2016                 3   \n",
       "4  2107011026            6/29/2023              2023                 3   \n",
       "\n",
       "                Address             City      Zip  Units Withdrawn  \\\n",
       "0  22729 W DEL VALLE ST     LOS ANGELES   91364.0              3.0   \n",
       "1  22727 W DEL VALLE ST  WOODLAND HILLS   91364.0              3.0   \n",
       "2  22769 W DEL VALLE ST     LOS ANGELES   91364.0              2.0   \n",
       "3  22431 W DEL VALLE ST  WOODLAND HILLS   91364.0              3.0   \n",
       "4    20137 W ARMINTA ST     LOS ANGELES   91306.0              2.0   \n",
       "\n",
       "   Replacement Unit   Latitude   Longitude  \n",
       "0               NaN  34.165795 -118.621248  \n",
       "1               NaN  34.165958 -118.621237  \n",
       "2              22.0  34.165508 -118.622696  \n",
       "3               NaN  34.167418 -118.616607  \n",
       "4               NaN  34.213476 -118.422740  "
      ]
     },
     "execution_count": 6,
     "metadata": {},
     "output_type": "execute_result"
    }
   ],
   "source": [
    "# Upload Ellis data\n",
    "ellis_data = pd.read_csv(\"data/updated_rso_data.csv\")\n",
    "ellis_data.head()"
   ]
  },
  {
   "cell_type": "code",
   "execution_count": 7,
   "id": "0325e429-3b4e-468a-915f-987c5d8fd765",
   "metadata": {},
   "outputs": [
    {
     "data": {
      "text/html": [
       "<div>\n",
       "<style scoped>\n",
       "    .dataframe tbody tr th:only-of-type {\n",
       "        vertical-align: middle;\n",
       "    }\n",
       "\n",
       "    .dataframe tbody tr th {\n",
       "        vertical-align: top;\n",
       "    }\n",
       "\n",
       "    .dataframe thead th {\n",
       "        text-align: right;\n",
       "    }\n",
       "</style>\n",
       "<table border=\"1\" class=\"dataframe\">\n",
       "  <thead>\n",
       "    <tr style=\"text-align: right;\">\n",
       "      <th></th>\n",
       "      <th>APN</th>\n",
       "      <th>Application Received</th>\n",
       "      <th>Application Year</th>\n",
       "      <th>Council District</th>\n",
       "      <th>Address</th>\n",
       "      <th>City</th>\n",
       "      <th>Zip</th>\n",
       "      <th>Units Withdrawn</th>\n",
       "      <th>Replacement Unit</th>\n",
       "      <th>Latitude</th>\n",
       "      <th>Longitude</th>\n",
       "    </tr>\n",
       "  </thead>\n",
       "  <tbody>\n",
       "    <tr>\n",
       "      <th>814</th>\n",
       "      <td>4259014019</td>\n",
       "      <td>7/10/2017</td>\n",
       "      <td>2017</td>\n",
       "      <td>99</td>\n",
       "      <td>1737 S WESTGATE AVE</td>\n",
       "      <td>LOS ANGELES</td>\n",
       "      <td>90025.0</td>\n",
       "      <td>3.0</td>\n",
       "      <td>NaN</td>\n",
       "      <td>34.038607</td>\n",
       "      <td>-118.45624</td>\n",
       "    </tr>\n",
       "  </tbody>\n",
       "</table>\n",
       "</div>"
      ],
      "text/plain": [
       "            APN Application Received  Application Year  Council District  \\\n",
       "814  4259014019            7/10/2017              2017                99   \n",
       "\n",
       "                 Address          City      Zip  Units Withdrawn  \\\n",
       "814  1737 S WESTGATE AVE  LOS ANGELES   90025.0              3.0   \n",
       "\n",
       "     Replacement Unit   Latitude  Longitude  \n",
       "814               NaN  34.038607 -118.45624  "
      ]
     },
     "execution_count": 7,
     "metadata": {},
     "output_type": "execute_result"
    }
   ],
   "source": [
    "# Finding all blank Council Districts \n",
    "ellis_data[ellis_data['Council District']==99]"
   ]
  },
  {
   "cell_type": "code",
   "execution_count": 8,
   "id": "376eb0a9-a3ba-48eb-8222-fea8cea8da37",
   "metadata": {},
   "outputs": [
    {
     "name": "stdout",
     "output_type": "stream",
     "text": [
      "Rows dropped: 1\n",
      "Ellis data remaining: 3358\n"
     ]
    }
   ],
   "source": [
    "# Drop blank data rows\n",
    "rows_to_drop = ellis_data[ellis_data['Council District'] == 99].index\n",
    "ellis_data.drop(rows_to_drop, inplace=True)\n",
    "\n",
    "# Check how many rows were dropped\n",
    "print(f\"Rows dropped: {len(rows_to_drop)}\")\n",
    "print(f\"Ellis data remaining: {len(ellis_data)}\")\n"
   ]
  },
  {
   "cell_type": "code",
   "execution_count": 9,
   "id": "dfdea1fd-3c6c-4048-a072-da6fbf26773d",
   "metadata": {},
   "outputs": [],
   "source": [
    "# Keep Ellis Applications after 2013 to match demolition data\n",
    "ellis_data[\"Application Year\"] = pd.to_numeric(ellis_data[\"Application Year\"], errors=\"coerce\")\n",
    "ellis_data = ellis_data[ellis_data[\"Application Year\"] >= 2013]"
   ]
  },
  {
   "cell_type": "code",
   "execution_count": 10,
   "id": "ff8b36a3-f15c-426c-8971-8fe903cdb247",
   "metadata": {},
   "outputs": [
    {
     "name": "stdout",
     "output_type": "stream",
     "text": [
      "APN                        0\n",
      "Application Received       0\n",
      "Application Year           0\n",
      "Council District           0\n",
      "Address                    0\n",
      "City                       0\n",
      "Zip                        0\n",
      "Units Withdrawn            1\n",
      "Replacement Unit        2447\n",
      "Latitude                   1\n",
      "Longitude                  1\n",
      "dtype: int64\n",
      "assessor_book                                0\n",
      "assessor_page                                0\n",
      "assessor_parcel                              0\n",
      "tract                                        1\n",
      "lot                                          3\n",
      "reference_old_permit                         0\n",
      "pcis_permit                                  0\n",
      "latest_status                                0\n",
      "status_date                                  0\n",
      "permit_type                                  0\n",
      "permit_sub_type                              0\n",
      "permit_category                              0\n",
      "initiating_office                            0\n",
      "issue_date                                   0\n",
      "address_start                                0\n",
      "address_end                                  0\n",
      "street_direction                             0\n",
      "street_name                                  0\n",
      "street_suffix                               10\n",
      "zip_code                                     0\n",
      "work_description                             0\n",
      "valuation                                    0\n",
      "contractors_business_name                    0\n",
      "contractor_address                         328\n",
      "contractor_city                            328\n",
      "contractor_state                           328\n",
      "license_type                                 0\n",
      "license                                      0\n",
      "principal_first_name                       324\n",
      "principal_middle_name                      501\n",
      "principal_last_name                        324\n",
      "license_expiration_date                    215\n",
      "applicant_first_name                         4\n",
      "applicant_last_name                         10\n",
      "zone                                         0\n",
      "floor_area_l_a_building_code_definition      0\n",
      "census_tract                                 0\n",
      "location_1                                  26\n",
      "floor_area_l_a_zoning_code_definition      464\n",
      "of_residential_dwelling_units              288\n",
      "block                                      705\n",
      "of_stories                                 794\n",
      "applicant_business_name                    961\n",
      "applicant_address_1                        856\n",
      "applicant_address_2                        922\n",
      "applicant_address_3                        864\n",
      "address_fraction_end                       982\n",
      "occupancy                                  994\n",
      "address_fraction_start                     991\n",
      "unit_range_start                           993\n",
      "unit_range_end                             996\n",
      "longitude                                   26\n",
      "latitude                                    26\n",
      "geometry                                    26\n",
      "dtype: int64\n"
     ]
    }
   ],
   "source": [
    "# check for any other missing values from dataset\n",
    "print(ellis_data.isnull().sum())  # Check missing values\n",
    "print(demo_data.isnull().sum())  # Check missing values"
   ]
  },
  {
   "cell_type": "code",
   "execution_count": 11,
   "id": "09e977f0-7b56-4f7c-9731-bcb12622dbb6",
   "metadata": {},
   "outputs": [],
   "source": [
    "# Convert Ellis Act Data to GeoDataFrame\n",
    "ellis_data[\"geometry\"] = ellis_data.apply(lambda row: Point(row[\"Longitude\"], row[\"Latitude\"]) if pd.notnull(row[\"Longitude\"]) else None, axis=1)\n",
    "ellis_gdf = gpd.GeoDataFrame(ellis_data, geometry=\"geometry\", crs=\"EPSG:4326\")  # Set WGS84 CRS"
   ]
  },
  {
   "cell_type": "code",
   "execution_count": 12,
   "id": "f08cbb95-58a2-446a-b84f-55c73707764e",
   "metadata": {},
   "outputs": [],
   "source": [
    "# Reproject to a Metric CRS (California Albers - EPSG:3310)\n",
    "projected_crs = \"EPSG:3310\"  # California Albers for accurate distance calculations\n",
    "\n",
    "# Reproject both datasets correctly\n",
    "demo_gdf = demo_gdf.to_crs(projected_crs)\n",
    "ellis_gdf = ellis_gdf.to_crs(projected_crs)\n"
   ]
  },
  {
   "cell_type": "code",
   "execution_count": 13,
   "id": "c7764cf4-f149-4916-b9eb-085004b73485",
   "metadata": {},
   "outputs": [
    {
     "name": "stdout",
     "output_type": "stream",
     "text": [
      "Demolition CRS: EPSG:3310, Ellis CRS: EPSG:3310\n",
      "                         geometry\n",
      "0  POINT (146604.552 -442472.577)\n",
      "1  POINT (138489.952 -438156.086)\n",
      "2  POINT (147417.879 -444969.451)\n",
      "3   POINT (137959.761 -427323.59)\n",
      "4  POINT (145604.913 -428377.851)\n",
      "                         geometry\n",
      "0  POINT (127103.907 -426850.744)\n",
      "1  POINT (127104.676 -426832.625)\n",
      "2  POINT (126970.945 -426884.465)\n",
      "3  POINT (127529.155 -426664.406)\n",
      "4  POINT (145314.249 -421276.213)\n"
     ]
    }
   ],
   "source": [
    "# Verify CRS transformation\n",
    "print(f\"Demolition CRS: {demo_gdf.crs}, Ellis CRS: {ellis_gdf.crs}\")\n",
    "\n",
    "# Check projected geometries\n",
    "print(demo_gdf[[\"geometry\"]].head())  \n",
    "print(ellis_gdf[[\"geometry\"]].head())\n"
   ]
  },
  {
   "cell_type": "code",
   "execution_count": 14,
   "id": "09b7d98c-d09e-41b8-9be5-e95c6b5f7e29",
   "metadata": {},
   "outputs": [
    {
     "name": "stdout",
     "output_type": "stream",
     "text": [
      "Updated CRS - Demolitions: EPSG:3310, Ellis: EPSG:3310\n"
     ]
    }
   ],
   "source": [
    "# Ensure CRS is correctly projected\n",
    "if demo_gdf.crs != \"EPSG:3310\":\n",
    "    demo_gdf = demo_gdf.to_crs(\"EPSG:3310\")\n",
    "if ellis_gdf.crs != \"EPSG:3310\":\n",
    "    ellis_gdf = ellis_gdf.to_crs(\"EPSG:3310\")\n",
    "\n",
    "print(f\"Updated CRS - Demolitions: {demo_gdf.crs}, Ellis: {ellis_gdf.crs}\")\n"
   ]
  },
  {
   "cell_type": "markdown",
   "id": "c09b4db2-9a07-4223-bf46-51826571d5c4",
   "metadata": {},
   "source": [
    "## Spatial Analysis\n",
    "To assess how many demolitions occur near Ellis Act removals, perform a spatial join/buffer analysis.  This section will do this by join demolition permits to Ellis Act Cases within a 500 meter buffer."
   ]
  },
  {
   "cell_type": "code",
   "execution_count": 15,
   "id": "89825bcb-f88d-454b-b79d-e0b59c6d09c3",
   "metadata": {},
   "outputs": [
    {
     "name": "stdout",
     "output_type": "stream",
     "text": [
      "Missing geometries in Ellis Act Data: 1\n",
      "Missing geometries in Demolitions Data: 26\n"
     ]
    }
   ],
   "source": [
    "# Check for Missing Geometries\n",
    "print(f\"Missing geometries in Ellis Act Data: {ellis_gdf['geometry'].isnull().sum()}\")\n",
    "print(f\"Missing geometries in Demolitions Data: {demo_gdf['geometry'].isnull().sum()}\")"
   ]
  },
  {
   "cell_type": "code",
   "execution_count": 16,
   "id": "c9136bad-5df0-4a03-aa0e-a2d6561ab984",
   "metadata": {},
   "outputs": [],
   "source": [
    "# Drop missing geometries \n",
    "ellis_gdf = ellis_gdf[ellis_gdf[\"geometry\"].notnull()]\n",
    "demo_gdf = demo_gdf[demo_gdf[\"geometry\"].notnull()]"
   ]
  },
  {
   "cell_type": "code",
   "execution_count": 17,
   "id": "11384b52-69f6-4014-8604-8d03cd4b84a2",
   "metadata": {},
   "outputs": [
    {
     "name": "stdout",
     "output_type": "stream",
     "text": [
      "Total buffers created: 3152\n",
      "          APN Application Received  Application Year  Council District  \\\n",
      "0  2040031029            11/6/2019              2019                 3   \n",
      "1  2040031030            12/4/2019              2019                 3   \n",
      "2  2040031050            2/25/2016              2016                 3   \n",
      "3  2040033033            2/10/2016              2016                 3   \n",
      "4  2107011026            6/29/2023              2023                 3   \n",
      "\n",
      "                Address             City      Zip  Units Withdrawn  \\\n",
      "0  22729 W DEL VALLE ST     LOS ANGELES   91364.0              3.0   \n",
      "1  22727 W DEL VALLE ST  WOODLAND HILLS   91364.0              3.0   \n",
      "2  22769 W DEL VALLE ST     LOS ANGELES   91364.0              2.0   \n",
      "3  22431 W DEL VALLE ST  WOODLAND HILLS   91364.0              3.0   \n",
      "4    20137 W ARMINTA ST     LOS ANGELES   91306.0              2.0   \n",
      "\n",
      "   Replacement Unit   Latitude   Longitude                        geometry  \\\n",
      "0               NaN  34.165795 -118.621248  POINT (127103.907 -426850.744)   \n",
      "1               NaN  34.165958 -118.621237  POINT (127104.676 -426832.625)   \n",
      "2              22.0  34.165508 -118.622696  POINT (126970.945 -426884.465)   \n",
      "3               NaN  34.167418 -118.616607  POINT (127529.155 -426664.406)   \n",
      "4               NaN  34.213476 -118.422740  POINT (145314.249 -421276.213)   \n",
      "\n",
      "                                              buffer  \n",
      "0  POLYGON ((127603.907 -426850.744, 127601.499 -...  \n",
      "1  POLYGON ((127604.676 -426832.625, 127602.268 -...  \n",
      "2  POLYGON ((127470.945 -426884.465, 127468.538 -...  \n",
      "3  POLYGON ((128029.155 -426664.406, 128026.747 -...  \n",
      "4  POLYGON ((145814.249 -421276.213, 145811.842 -...  \n"
     ]
    }
   ],
   "source": [
    "# Create buffer (500m)\n",
    "ellis_gdf[\"buffer\"] = ellis_gdf.geometry.buffer(500)\n",
    "\n",
    "# Convert to geodataframe for spatial join\n",
    "ellis_buffer_gdf = gpd.GeoDataFrame(ellis_gdf, geometry=\"buffer\", crs=\"EPSG:3310\")\n",
    "\n",
    "# Check buffer validity\n",
    "print(f\"Total buffers created: {len(ellis_buffer_gdf)}\")\n",
    "print(ellis_buffer_gdf.head())\n"
   ]
  },
  {
   "cell_type": "code",
   "execution_count": 18,
   "id": "4e4c5565-77da-4c8a-b726-28999cb84f47",
   "metadata": {},
   "outputs": [
    {
     "name": "stdout",
     "output_type": "stream",
     "text": [
      "Number of demolitions near Ellis Act removals (buffer method): 6946\n"
     ]
    }
   ],
   "source": [
    "# Number of demolitions near Ellis Act buffer \n",
    "demo_near_ellis = gpd.sjoin(demo_gdf, ellis_buffer_gdf, predicate=\"intersects\", how=\"inner\")\n",
    "\n",
    "print(f\"Number of demolitions near Ellis Act removals (buffer method): {len(demo_near_ellis)}\")\n"
   ]
  },
  {
   "cell_type": "code",
   "execution_count": 19,
   "id": "154b6775-d535-48a5-b214-d69c785b972c",
   "metadata": {},
   "outputs": [],
   "source": [
    "# Check for overlapping clusters in the buffers\n",
    "demo_near_ellis = gpd.sjoin(demo_gdf, ellis_buffer_gdf, predicate=\"intersects\", how=\"inner\")\n",
    "\n"
   ]
  },
  {
   "cell_type": "code",
   "execution_count": 20,
   "id": "4b9349a3-6f32-495c-9125-c6b8255a522f",
   "metadata": {},
   "outputs": [
    {
     "name": "stdout",
     "output_type": "stream",
     "text": [
      "Demolitions within 500m buffer (after deduplication): 634\n"
     ]
    }
   ],
   "source": [
    "# Remove duplicate demolitions that fall into multiple buffers\n",
    "demo_near_ellis = demo_near_ellis.drop_duplicates(subset=[\"geometry\"])\n",
    "\n",
    "print(f\"Demolitions within 500m buffer (after deduplication): {len(demo_near_ellis)}\")\n"
   ]
  },
  {
   "cell_type": "code",
   "execution_count": 21,
   "id": "900be09d-5e39-4f60-baf2-7d78824aec31",
   "metadata": {},
   "outputs": [],
   "source": [
    "from shapely.ops import nearest_points\n",
    "\n",
    "# Define the function correctly\n",
    "def find_nearest_ellis(row, ellis_gdf):\n",
    "    if row.geometry is None or ellis_gdf.geometry.is_empty.any():\n",
    "        return None  # Skip rows with missing geometry\n",
    "\n",
    "    # Use `union_all()` instead of `unary_union`\n",
    "    ellis_union = ellis_gdf.geometry.union_all()\n",
    "    \n",
    "    if ellis_union.is_empty:\n",
    "        return None  # If all geometries in ellis_gdf are empty, return None\n",
    "\n",
    "    nearest_geom = nearest_points(row.geometry, ellis_union)[1]\n",
    "    return row.geometry.distance(nearest_geom)"
   ]
  },
  {
   "cell_type": "code",
   "execution_count": 22,
   "id": "9b044665-52aa-45f5-9a96-c90b56482a2e",
   "metadata": {},
   "outputs": [
    {
     "name": "stdout",
     "output_type": "stream",
     "text": [
      "   distance_to_ellis\n",
      "0          74.835633\n",
      "1        2128.944863\n",
      "2         119.263204\n",
      "3        2245.791511\n",
      "4         135.508429\n",
      "5         601.549787\n",
      "6         169.181963\n",
      "7          62.403702\n",
      "8        1089.058461\n",
      "9         134.655321\n"
     ]
    }
   ],
   "source": [
    "# Try another method, seeing how many demolitions are near Ellis Act Applications\n",
    "demo_gdf.loc[:, \"distance_to_ellis\"] = demo_gdf.apply(\n",
    "    lambda row: find_nearest_ellis(row, ellis_gdf), axis=1\n",
    ")\n",
    "\n",
    "print(demo_gdf[[\"distance_to_ellis\"]].head(10))  # Check the first 10 rows"
   ]
  },
  {
   "cell_type": "code",
   "execution_count": 23,
   "id": "762fb907-fa15-415a-b766-7749b76d3c18",
   "metadata": {},
   "outputs": [
    {
     "name": "stdout",
     "output_type": "stream",
     "text": [
      "0\n"
     ]
    }
   ],
   "source": [
    "# check for missing values\n",
    "print(demo_gdf[\"distance_to_ellis\"].isnull().sum())  # Count null values\n"
   ]
  },
  {
   "cell_type": "code",
   "execution_count": 24,
   "id": "a9bdcbf6-9f08-4403-899f-b146f810556d",
   "metadata": {},
   "outputs": [
    {
     "name": "stdout",
     "output_type": "stream",
     "text": [
      "Min Distance: 0.0 meters\n",
      "Max Distance: 5362.794087386685 meters\n",
      "Mean Distance: 472.3517487379432 meters\n"
     ]
    }
   ],
   "source": [
    "# Revuew distribution of distances\n",
    "print(f\"Min Distance: {demo_gdf['distance_to_ellis'].min()} meters\")\n",
    "print(f\"Max Distance: {demo_gdf['distance_to_ellis'].max()} meters\")\n",
    "print(f\"Mean Distance: {demo_gdf['distance_to_ellis'].mean()} meters\")\n"
   ]
  },
  {
   "cell_type": "code",
   "execution_count": 25,
   "id": "512c0fe7-2a10-4ee6-a4b3-e26dbedebcd1",
   "metadata": {},
   "outputs": [
    {
     "data": {
      "image/png": "[encoded data removed]",
      "text/plain": [
       "<Figure size 800x500 with 1 Axes>"
      ]
     },
     "metadata": {},
     "output_type": "display_data"
    }
   ],
   "source": [
    "# Plot a histogram to check how distances are distributed\n",
    "import matplotlib.pyplot as plt\n",
    "\n",
    "plt.figure(figsize=(8,5))\n",
    "plt.hist(demo_gdf[\"distance_to_ellis\"].dropna(), bins=30, edgecolor=\"black\")\n",
    "plt.xlabel(\"Distance to Nearest Ellis Act Removal (meters)\")\n",
    "plt.ylabel(\"Frequency\")\n",
    "plt.title(\"Distribution of Demolition Permits Near Ellis Act Removals\")\n",
    "plt.show()\n"
   ]
  },
  {
   "cell_type": "code",
   "execution_count": 26,
   "id": "ed6aba95-ee41-438a-a596-1e2806fa5ff8",
   "metadata": {},
   "outputs": [
    {
     "name": "stdout",
     "output_type": "stream",
     "text": [
      "Demolitions within 500m buffer: 634\n",
      "Demolitions within 500m distance: 685\n"
     ]
    }
   ],
   "source": [
    "# Compare the two methods of spatial analysis\n",
    "\n",
    "buffer_count = len(demo_near_ellis)  # From buffer method\n",
    "distance_count = len(demo_gdf[demo_gdf[\"distance_to_ellis\"] <= 500])  # From distance method\n",
    "\n",
    "print(f\"Demolitions within 500m buffer: {buffer_count}\")\n",
    "print(f\"Demolitions within 500m distance: {distance_count}\")\n"
   ]
  },
  {
   "cell_type": "code",
   "execution_count": 35,
   "id": "c60cc561-a774-4166-b85e-e4b4603f8669",
   "metadata": {},
   "outputs": [],
   "source": [
    "import folium\n",
    "import requests\n",
    "import geopandas as gpd\n",
    "from folium import GeoJson\n",
    "\n",
    "# Fetch City Council District Boundaries\n",
    "url = \"https://maps.lacity.org/lahub/rest/services/Boundaries/MapServer/13/query?outFields=*&where=1%3D1&f=geojson\"\n",
    "response = requests.get(url)\n",
    "council_districts = gpd.read_file(response.text)\n",
    "\n",
    "# Ensure CRS is the same for all GeoDataFrames\n",
    "council_districts = council_districts.to_crs(\"EPSG:4326\")\n",
    "demo_near_ellis = demo_near_ellis.to_crs(\"EPSG:4326\")\n",
    "\n",
    "# Calculate the center of the map based on the geometries\n",
    "center_lat = demo_near_ellis.geometry.y.mean()\n",
    "center_lon = demo_near_ellis.geometry.x.mean()\n",
    "\n",
    "# Create a folium map centered around the calculated center\n",
    "m = folium.Map(location=[center_lat, center_lon], zoom_start=10)\n",
    "\n",
    "# Add City Council District Boundaries to the map\n",
    "GeoJson(council_districts).add_to(m)\n",
    "\n",
    "# Add Demolitions within 500m buffer to the map with tooltips\n",
    "for idx, row in demo_near_ellis.iterrows():\n",
    "    folium.CircleMarker(\n",
    "        location=[row.geometry.y, row.geometry.x],\n",
    "        radius=5,\n",
    "        color='red',\n",
    "        fill=True,\n",
    "        fill_color='red',\n",
    "        fill_opacity=0.6,\n",
    "        tooltip=row['address'] if 'address' in row else 'Demolition Site'\n",
    "    ).add_to(m)\n",
    "\n",
    "# Display the map\n",
    "m\n",
    "\n",
    "# Save the map as an HTML file\n",
    "m.save(\"Demolitions_Ellis_Buffer.html\")\n"
   ]
  },
  {
   "cell_type": "code",
   "execution_count": 36,
   "id": "98346c10-4488-4df8-9c6e-0519a45ad493",
   "metadata": {},
   "outputs": [],
   "source": [
    "import folium\n",
    "from folium.plugins import HeatMap\n",
    "\n",
    "# Calculate the center of the map based on the geometries\n",
    "center_lat = demo_near_ellis.geometry.y.mean()\n",
    "center_lon = demo_near_ellis.geometry.x.mean()\n",
    "\n",
    "# Create a folium map centered around the calculated center\n",
    "m = folium.Map(location=[center_lat, center_lon], zoom_start=10)\n",
    "\n",
    "# Add City Council District Boundaries to the map\n",
    "GeoJson(council_districts).add_to(m)\n",
    "\n",
    "# Prepare data for HeatMap\n",
    "heat_data = [[row.geometry.y, row.geometry.x] for idx, row in demo_near_ellis.iterrows()]\n",
    "\n",
    "# Add HeatMap to the map\n",
    "HeatMap(heat_data).add_to(m)\n",
    "\n",
    "# Add a title to the map\n",
    "title_html = '''\n",
    "             <h3 align=\"center\" style=\"font-size:20px\"><b>Demolition Density within Ellis Act Buffer in Los Angeles</b></h3>\n",
    "             '''\n",
    "m.get_root().html.add_child(folium.Element(title_html))\n",
    "\n",
    "# Display the map\n",
    "m\n",
    "# Save the map as an HTML file\n",
    "m.save(\"Choropleth_Demolitions_Ellis_Buffers.html\")\n"
   ]
  }
 ],
 "metadata": {
  "kernelspec": {
   "display_name": "Python 3 (ipykernel)",
   "language": "python",
   "name": "python3"
  },
  "language_info": {
   "codemirror_mode": {
    "name": "ipython",
    "version": 3
   },
   "file_extension": ".py",
   "mimetype": "text/x-python",
   "name": "python",
   "nbconvert_exporter": "python",
   "pygments_lexer": "ipython3",
   "version": "3.11.9"
  }
 },
 "nbformat": 4,
 "nbformat_minor": 5
}
